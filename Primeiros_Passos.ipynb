{
  "nbformat": 4,
  "nbformat_minor": 0,
  "metadata": {
    "colab": {
      "name": "Primeiros Passos",
      "provenance": [],
      "collapsed_sections": [
        "mO02TBo9hfpN",
        "tcpaLiTAhxFB",
        "Brdn0nlTh5Mm",
        "khv32ujviC5A",
        "Jqw7j85jiKfy"
      ],
      "authorship_tag": "ABX9TyMNIYnxondFQMHvpjAyz4gP",
      "include_colab_link": true
    },
    "kernelspec": {
      "name": "python3",
      "display_name": "Python 3"
    },
    "language_info": {
      "name": "python"
    }
  },
  "cells": [
    {
      "cell_type": "markdown",
      "metadata": {
        "id": "view-in-github",
        "colab_type": "text"
      },
      "source": [
        "<a href=\"https://colab.research.google.com/github/Lucas-Abrahao/Alura-Python-para-DS/blob/main/Primeiros_Passos.ipynb\" target=\"_parent\"><img src=\"https://colab.research.google.com/assets/colab-badge.svg\" alt=\"Open In Colab\"/></a>"
      ]
    },
    {
      "cell_type": "markdown",
      "source": [
        "##Criando uma Função"
      ],
      "metadata": {
        "id": "mO02TBo9hfpN"
      }
    },
    {
      "cell_type": "code",
      "execution_count": null,
      "metadata": {
        "id": "Pu887xTyhMxR"
      },
      "outputs": [],
      "source": [
        "nome = 'Lucas'\n",
        "idade = 23"
      ]
    },
    {
      "cell_type": "code",
      "source": [
        "print(f'O meu nome é {nome} e tenho {idade} anos')"
      ],
      "metadata": {
        "colab": {
          "base_uri": "https://localhost:8080/"
        },
        "id": "w6lCx2FJhpkA",
        "outputId": "c13b7fb6-43d2-4ec9-a015-8c1c5748f5e3"
      },
      "execution_count": null,
      "outputs": [
        {
          "output_type": "stream",
          "name": "stdout",
          "text": [
            "O meu nome é Lucas e tenho 23 anos\n"
          ]
        }
      ]
    },
    {
      "cell_type": "code",
      "source": [
        "def saudacao ():\n",
        "  nome = input(\"Qual seu nome ? \")\n",
        "  print(f'Olá {nome}')"
      ],
      "metadata": {
        "id": "OkMOo-7Lhrtw"
      },
      "execution_count": null,
      "outputs": []
    },
    {
      "cell_type": "markdown",
      "source": [
        "##Função Saudação"
      ],
      "metadata": {
        "id": "tcpaLiTAhxFB"
      }
    },
    {
      "cell_type": "code",
      "source": [
        "saudacao()"
      ],
      "metadata": {
        "colab": {
          "base_uri": "https://localhost:8080/"
        },
        "id": "IcRgLCVWhuhi",
        "outputId": "5c26d463-a57a-4cc0-981d-e8605ead5b08"
      },
      "execution_count": null,
      "outputs": [
        {
          "output_type": "stream",
          "name": "stdout",
          "text": [
            "Qual seu nome ? Lucas\n",
            "Olá Lucas\n"
          ]
        }
      ]
    },
    {
      "cell_type": "markdown",
      "source": [
        "##Saudação Com Parametros "
      ],
      "metadata": {
        "id": "Brdn0nlTh5Mm"
      }
    },
    {
      "cell_type": "code",
      "source": [
        "def saudacao_p(nome_da_pessoa):\n",
        "  print(f'Olá {nome_da_pessoa}')"
      ],
      "metadata": {
        "id": "4oNnP4YGh2Bl"
      },
      "execution_count": null,
      "outputs": []
    },
    {
      "cell_type": "code",
      "source": [
        "saudacao_p('bia')"
      ],
      "metadata": {
        "colab": {
          "base_uri": "https://localhost:8080/"
        },
        "id": "lvRItSxrh-uy",
        "outputId": "2ae95025-2d7b-4719-c147-54cd800bd32d"
      },
      "execution_count": null,
      "outputs": [
        {
          "output_type": "stream",
          "name": "stdout",
          "text": [
            "Olá bia\n"
          ]
        }
      ]
    },
    {
      "cell_type": "markdown",
      "source": [
        "##Condicional"
      ],
      "metadata": {
        "id": "khv32ujviC5A"
      }
    },
    {
      "cell_type": "code",
      "source": [
        "idade = int(input(\"Qual sua idade ? \"))\n",
        "\n",
        "def pode_dirigir(idade):\n",
        "  if idade >= 18 :\n",
        "    print('Pode dirigir')\n",
        "  else:\n",
        "    print(\"Não pode dirigir\")\n",
        "\n",
        "pode_dirigir(idade)"
      ],
      "metadata": {
        "colab": {
          "base_uri": "https://localhost:8080/"
        },
        "id": "cMjFCbAsiAuC",
        "outputId": "ad234473-9720-4fab-fad0-e99f930c85e6"
      },
      "execution_count": null,
      "outputs": [
        {
          "output_type": "stream",
          "name": "stdout",
          "text": [
            "Qual sua idade ? 25\n",
            "Pode dirigir\n"
          ]
        }
      ]
    },
    {
      "cell_type": "markdown",
      "source": [
        "##Loop"
      ],
      "metadata": {
        "id": "Jqw7j85jiKfy"
      }
    },
    {
      "cell_type": "code",
      "source": [
        "idades = [18, 22, 15, 50]\n",
        "idades"
      ],
      "metadata": {
        "colab": {
          "base_uri": "https://localhost:8080/"
        },
        "id": "EzHJ_QEHiGrN",
        "outputId": "9b21e684-4554-406b-bb02-2bfee299c897"
      },
      "execution_count": null,
      "outputs": [
        {
          "output_type": "execute_result",
          "data": {
            "text/plain": [
              "[18, 22, 15, 50]"
            ]
          },
          "metadata": {},
          "execution_count": 8
        }
      ]
    },
    {
      "cell_type": "code",
      "source": [
        "def verifica_se_pode_dirigir(idades):\n",
        "  for idade in idades:\n",
        "    if idade >= 18:\n",
        "      print(f'{idade} anos, Tem permissão para dirigir')\n",
        "    else:\n",
        "      print(f'{idade} anos, Não Tem permissão para dirigir')\n",
        "\n",
        "verifica_se_pode_dirigir(idades)"
      ],
      "metadata": {
        "colab": {
          "base_uri": "https://localhost:8080/"
        },
        "id": "4Bjww6EniN0w",
        "outputId": "3b32940d-2c79-4204-cd3c-c97460b90908"
      },
      "execution_count": null,
      "outputs": [
        {
          "output_type": "stream",
          "name": "stdout",
          "text": [
            "18 anos, Tem permissão para dirigir\n",
            "22 anos, Tem permissão para dirigir\n",
            "15 anos, Não Tem permissão para dirigir\n",
            "50 anos, Tem permissão para dirigir\n"
          ]
        }
      ]
    },
    {
      "cell_type": "markdown",
      "source": [
        "##Booleano"
      ],
      "metadata": {
        "id": "8lEm_RrniSxZ"
      }
    },
    {
      "cell_type": "code",
      "source": [
        "idades = [20, 14, 40]\n",
        "permissoes = []\n",
        "\n",
        "for idade in idades:\n",
        "  if idade > 18:\n",
        "    permissoes.append(True)\n",
        "  else:\n",
        "    permissoes.append(False)\n",
        "\n",
        "permissoes"
      ],
      "metadata": {
        "colab": {
          "base_uri": "https://localhost:8080/"
        },
        "id": "GWnvKuubiPjM",
        "outputId": "d87a14ba-ede6-47a5-f1da-d78a184e950c"
      },
      "execution_count": null,
      "outputs": [
        {
          "output_type": "execute_result",
          "data": {
            "text/plain": [
              "[True, False, True]"
            ]
          },
          "metadata": {},
          "execution_count": 10
        }
      ]
    },
    {
      "cell_type": "markdown",
      "source": [
        "##Tipos em Lista"
      ],
      "metadata": {
        "id": "HCd7SaIVibJV"
      }
    },
    {
      "cell_type": "code",
      "source": [
        "lista = ['Lucas', 23, True, \"51\"]\n",
        "\n",
        "for item in lista:\n",
        "  print(f'O item {item} da lista é do tipo: ', type(item))"
      ],
      "metadata": {
        "colab": {
          "base_uri": "https://localhost:8080/"
        },
        "id": "fK-dW1PTiWAU",
        "outputId": "de179073-c5f4-49fa-fe64-650e4a9e9d95"
      },
      "execution_count": null,
      "outputs": [
        {
          "output_type": "stream",
          "name": "stdout",
          "text": [
            "O item Lucas da lista é do tipo:  <class 'str'>\n",
            "O item 23 da lista é do tipo:  <class 'int'>\n",
            "O item True da lista é do tipo:  <class 'bool'>\n",
            "O item 51 da lista é do tipo:  <class 'str'>\n"
          ]
        }
      ]
    },
    {
      "cell_type": "markdown",
      "source": [
        "##Import"
      ],
      "metadata": {
        "id": "RHsiKrVQig7O"
      }
    },
    {
      "cell_type": "code",
      "source": [
        "from random import randrange\n",
        "\n",
        "randrange(0,11)"
      ],
      "metadata": {
        "colab": {
          "base_uri": "https://localhost:8080/"
        },
        "id": "6RD71EM5ih53",
        "outputId": "3bd6b10c-6f31-4a26-e361-15d7ca64f3c1"
      },
      "execution_count": null,
      "outputs": [
        {
          "output_type": "execute_result",
          "data": {
            "text/plain": [
              "4"
            ]
          },
          "metadata": {},
          "execution_count": 12
        }
      ]
    },
    {
      "cell_type": "code",
      "source": [
        "notas_mat = []\n",
        "\n",
        "for notas in range (8):\n",
        "  notas_mat.append(randrange(0,11))\n",
        "\n",
        "notas_mat"
      ],
      "metadata": {
        "colab": {
          "base_uri": "https://localhost:8080/"
        },
        "id": "ty6VyTkdieTo",
        "outputId": "7a8b0ded-2d04-489e-c2f4-d09fe706ce5c"
      },
      "execution_count": null,
      "outputs": [
        {
          "output_type": "execute_result",
          "data": {
            "text/plain": [
              "[6, 1, 9, 0, 7, 4, 7, 1]"
            ]
          },
          "metadata": {},
          "execution_count": 13
        }
      ]
    },
    {
      "cell_type": "markdown",
      "source": [
        "##MatplotLib"
      ],
      "metadata": {
        "id": "Yd4-sAd4ioS1"
      }
    },
    {
      "cell_type": "code",
      "source": [
        "import matplotlib.pyplot as plt\n",
        "\n",
        "x = list(range(1,9))\n",
        "y = notas_mat\n",
        "\n",
        "plt.plot(x, y, marker = 'o')\n",
        "\n",
        "plt.title('Notas de Matematica')\n",
        "plt.xlabel('Provas')\n",
        "plt.ylabel('Notas')\n",
        "\n",
        "plt.show()"
      ],
      "metadata": {
        "colab": {
          "base_uri": "https://localhost:8080/",
          "height": 295
        },
        "id": "QL6T3QPfil1b",
        "outputId": "5f92b4fe-0410-4c20-dbb5-526f7febd4db"
      },
      "execution_count": null,
      "outputs": [
        {
          "output_type": "display_data",
          "data": {
            "text/plain": [
              "<Figure size 432x288 with 1 Axes>"
            ],
            "image/png": "[encoded data removed]"
          },
          "metadata": {
            "needs_background": "light"
          }
        }
      ]
    },
    {
      "cell_type": "code",
      "source": [
        ""
      ],
      "metadata": {
        "id": "e1V00zs_isAO"
      },
      "execution_count": null,
      "outputs": []
    }
  ]
}