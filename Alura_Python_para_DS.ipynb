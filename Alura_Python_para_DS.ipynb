{
  "nbformat": 4,
  "nbformat_minor": 0,
  "metadata": {
    "colab": {
      "name": "Alura Python para DS.ipynb",
      "provenance": [],
      "collapsed_sections": [
        "gR_kdxoITS26",
        "Z1rTdBYSg-rt",
        "tp82UPuajhfZ",
        "4BPux_E5jkTD",
        "zaliwwz9kYkg",
        "1GQfxHoE48LG",
        "Fh2loJlQ6YP9",
        "MP-44uWl9lUh",
        "J_d-ZXJY-yP2",
        "DynE4iHBMFY9",
        "_p6XHLDyUWpa",
        "QiW6PnF-lRGI",
        "5CZfPDV8nRvd",
        "e5HAMNHcpXOH",
        "pMMqQO4Gz-sf",
        "3TZtVcLrtw1Z",
        "LDexcuqfVC4V",
        "f9eOmrjzfZia",
        "P72Fs5dSiWNO",
        "nTKV2-wGjy56",
        "qVOi6J3dj12w",
        "cgG-VTJgkVlN",
        "niRpsggpuIIi",
        "RmcAKvzwy7iL",
        "BG6qfQGTnVKY",
        "HTDRLCoNwKx0",
        "nYe_UttAzD1n",
        "SvgCkwd9QIiC",
        "PMVrmOhrR_Fr",
        "_Ev0fMGGXtF6",
        "EHNXx-o-Y25T",
        "Kx-WzpU1ZfGd",
        "uIzSlKuwakXK",
        "U-O91dTZbbDp",
        "RuUBcWMpdXbd",
        "1qzjXui9iJik",
        "Pm429-DnlLK-",
        "hE7CWN08q0zA",
        "2Z2MfEBY05k2",
        "oAWae1qA3F3Z",
        "fTOt6M33EKUB",
        "MKRTPaQIFCVI",
        "Q3AByNjPJp43",
        "8eQhN13xLBee",
        "JiHBqfwwMkNw",
        "jQWW_M3sQdL3",
        "k_wHvrbw7fT7",
        "qk0RDPKwDrP8",
        "eqkd94ckeEu0",
        "BgXtE73Kaz_1",
        "2fv_vwSTcAzl",
        "hxlUZkOpcXRj",
        "Zbva_h4BdFY0",
        "Fvfz-bL8eGKT",
        "FKsFMGuchlsP",
        "cUvGx2KOin1K",
        "EzhEjJyJj3Ys",
        "Txat2DPU2nQL",
        "ipGhU6573tPT",
        "JZm81Dc06Hqd",
        "RipLLOhA9QWZ",
        "zn7i-YV4B2hA",
        "OivzoxvXSEb1",
        "q4RTsoYaBIvH",
        "c3lYpM2I7TRv",
        "YM7Hb9Dr5NJ7",
        "_OMyO3RY5Ua7",
        "hfNzgFnp7Jg4",
        "YWnr46o0eZUH",
        "09CJ_73ngGj8",
        "sRqIOTjggQX0",
        "cT-3yJqyi253",
        "MoNvxpkai_cB",
        "p1AR2IHerOLI",
        "-Z4_BpHnreWq",
        "OK-4TT8msYFb",
        "M9qTx0UsvYYa",
        "sP4FEo1uwoAg",
        "s9m0WEOcx5h5",
        "Qd5yXRk_yrev",
        "zzauDR04zjvO",
        "HLKaJKme1alo",
        "3Z4VOKHX1pWl",
        "qJKDsnST2LEj",
        "0JoDO0-l2rXh",
        "SVkXIxkm4uy6",
        "KkBGcVCy5eW8"
      ],
      "mount_file_id": "1Rh94uQopHu-DXmoRjSp4AR9e_KsWfokj",
      "authorship_tag": "ABX9TyM0TNihBQ1uYEEKvn1qV1MR",
      "include_colab_link": true
    },
    "kernelspec": {
      "name": "python3",
      "display_name": "Python 3"
    },
    "language_info": {
      "name": "python"
    }
  },
  "cells": [
    {
      "cell_type": "markdown",
      "metadata": {
        "id": "view-in-github",
        "colab_type": "text"
      },
      "source": [
        "<a href=\"https://colab.research.google.com/github/Lucas-Abrahao/Alura-Python-para-DS/blob/main/Alura_Python_para_DS.ipynb\" target=\"_parent\"><img src=\"https://colab.research.google.com/assets/colab-badge.svg\" alt=\"Open In Colab\"/></a>"
      ]
    },
    {
      "cell_type": "markdown",
      "metadata": {
        "id": "gR_kdxoITS26"
      },
      "source": [
        "# Python para DataScience: Primeiros Passos\n"
      ]
    },
    {
      "cell_type": "markdown",
      "metadata": {
        "id": "Z1rTdBYSg-rt"
      },
      "source": [
        "##Criando uma função "
      ]
    },
    {
      "cell_type": "code",
      "metadata": {
        "id": "a6gxLt5OfmI4"
      },
      "source": [
        "nome = 'Lucas'\n",
        "idade = 23"
      ],
      "execution_count": null,
      "outputs": []
    },
    {
      "cell_type": "code",
      "metadata": {
        "id": "hhIPAiPPgvld",
        "colab": {
          "base_uri": "https://localhost:8080/"
        },
        "outputId": "3eaafbb0-0b2b-4fb8-a66c-8fe68b8ed16e"
      },
      "source": [
        "print(f'O meu nome é {nome} e tenho {idade} anos')"
      ],
      "execution_count": null,
      "outputs": [
        {
          "output_type": "stream",
          "name": "stdout",
          "text": [
            "O meu nome é Lucas e tenho 23 anos\n"
          ]
        }
      ]
    },
    {
      "cell_type": "code",
      "metadata": {
        "id": "GP_rm6PuhHXs"
      },
      "source": [
        "def saudacao ():\n",
        "  nome = input(\"Qual seu nome ? \")\n",
        "  print(f'Olá {nome}')"
      ],
      "execution_count": null,
      "outputs": []
    },
    {
      "cell_type": "markdown",
      "metadata": {
        "id": "tp82UPuajhfZ"
      },
      "source": [
        "##Função saudação "
      ]
    },
    {
      "cell_type": "code",
      "metadata": {
        "id": "LNSjOWwkhqZ2",
        "colab": {
          "base_uri": "https://localhost:8080/"
        },
        "outputId": "2e1c1665-4cc0-48e7-f793-d47386c6f1c6"
      },
      "source": [
        "saudacao()"
      ],
      "execution_count": null,
      "outputs": [
        {
          "output_type": "stream",
          "name": "stdout",
          "text": [
            "Qual seu nome ? lucas\n",
            "Olá lucas\n"
          ]
        }
      ]
    },
    {
      "cell_type": "markdown",
      "metadata": {
        "id": "4BPux_E5jkTD"
      },
      "source": [
        "##saudação com parametros"
      ]
    },
    {
      "cell_type": "code",
      "metadata": {
        "id": "6VC2NoGUhp_w"
      },
      "source": [
        "def saudacao_p(nome_da_pessoa):\n",
        "  print(f'Olá {nome_da_pessoa}')"
      ],
      "execution_count": null,
      "outputs": []
    },
    {
      "cell_type": "code",
      "metadata": {
        "id": "qE18Scwtj1hh"
      },
      "source": [
        "saudacao_p('bia')"
      ],
      "execution_count": null,
      "outputs": []
    },
    {
      "cell_type": "markdown",
      "metadata": {
        "id": "zaliwwz9kYkg"
      },
      "source": [
        "## Condicional\n"
      ]
    },
    {
      "cell_type": "code",
      "metadata": {
        "id": "GBRl0d_Vkbej"
      },
      "source": [
        "idade = int(input(\"Qual sua idade ? \"))\n",
        "\n",
        "def pode_dirigir(idade):\n",
        "  if idade >= 18 :\n",
        "    print('Pode dirigir')\n",
        "  else:\n",
        "    print(\"Não pode dirigir\")\n",
        "\n",
        "pode_dirigir(idade)"
      ],
      "execution_count": null,
      "outputs": []
    },
    {
      "cell_type": "markdown",
      "metadata": {
        "id": "1GQfxHoE48LG"
      },
      "source": [
        "## loop"
      ]
    },
    {
      "cell_type": "code",
      "metadata": {
        "id": "Iq0SAqPb5AMH"
      },
      "source": [
        "idades = [18, 22, 15, 50]\n",
        "idades"
      ],
      "execution_count": null,
      "outputs": []
    },
    {
      "cell_type": "code",
      "metadata": {
        "id": "Ifzb1Gkv5PZ5"
      },
      "source": [
        "def verifica_se_pode_dirigir(idades):\n",
        "  for idade in idades:\n",
        "    if idade >= 18:\n",
        "      print(f'{idade} anos, Tem permissão para dirigir')\n",
        "    else:\n",
        "      print(f'{idade} anos, Não Tem permissão para dirigir')\n",
        "\n",
        "verifica_se_pode_dirigir(idades)"
      ],
      "execution_count": null,
      "outputs": []
    },
    {
      "cell_type": "markdown",
      "metadata": {
        "id": "Fh2loJlQ6YP9"
      },
      "source": [
        "## Boleano"
      ]
    },
    {
      "cell_type": "code",
      "metadata": {
        "id": "XWiLzLsI8MxB"
      },
      "source": [
        "idades = [20, 14, 40]\n",
        "permissoes = []\n",
        "\n",
        "for idade in idades:\n",
        "  if idade > 18:\n",
        "    permissoes.append(True)\n",
        "  else:\n",
        "    permissoes.append(False)\n",
        "\n",
        "permissoes\n"
      ],
      "execution_count": null,
      "outputs": []
    },
    {
      "cell_type": "markdown",
      "metadata": {
        "id": "MP-44uWl9lUh"
      },
      "source": [
        "##Tipos em lista"
      ]
    },
    {
      "cell_type": "code",
      "metadata": {
        "id": "NThUtQ1D9v8F"
      },
      "source": [
        "lista = ['Lucas', 23, True, \"51\"]\n",
        "\n",
        "for item in lista:\n",
        "  print(f'O item {item} da lista é do tipo: ', type(item))"
      ],
      "execution_count": null,
      "outputs": []
    },
    {
      "cell_type": "markdown",
      "metadata": {
        "id": "J_d-ZXJY-yP2"
      },
      "source": [
        "## Import"
      ]
    },
    {
      "cell_type": "code",
      "metadata": {
        "id": "EIB3LjaV-2TK"
      },
      "source": [
        "from random import randrange\n",
        "\n",
        "randrange(0,11)"
      ],
      "execution_count": null,
      "outputs": []
    },
    {
      "cell_type": "code",
      "metadata": {
        "id": "kcWT50Mn_ZHI"
      },
      "source": [
        "notas_mat = []\n",
        "\n",
        "for notas in range (8):\n",
        "  notas_mat.append(randrange(0,11))\n",
        "\n",
        "notas_mat"
      ],
      "execution_count": null,
      "outputs": []
    },
    {
      "cell_type": "markdown",
      "metadata": {
        "id": "DynE4iHBMFY9"
      },
      "source": [
        "## Matplotlib"
      ]
    },
    {
      "cell_type": "code",
      "metadata": {
        "id": "ElbZcyn1MHdE"
      },
      "source": [
        "import matplotlib.pyplot as plt\n",
        "\n",
        "x = list(range(1,9))\n",
        "y = notas_mat\n",
        "\n",
        "plt.plot(x, y, marker = 'o')\n",
        "\n",
        "plt.title('Notas de Matematica')\n",
        "plt.xlabel('Provas')\n",
        "plt.ylabel('Notas')\n",
        "\n",
        "plt.show()"
      ],
      "execution_count": null,
      "outputs": []
    },
    {
      "cell_type": "markdown",
      "metadata": {
        "id": "_p6XHLDyUWpa"
      },
      "source": [
        "# Python para DataScience: Introdução a Linguagem e NumPy"
      ]
    },
    {
      "cell_type": "markdown",
      "metadata": {
        "id": "QiW6PnF-lRGI"
      },
      "source": [
        "## Verificando a versão do Python"
      ]
    },
    {
      "cell_type": "code",
      "metadata": {
        "id": "cGcaM9HwWqC_"
      },
      "source": [
        "!python -V"
      ],
      "execution_count": null,
      "outputs": []
    },
    {
      "cell_type": "markdown",
      "metadata": {
        "id": "5CZfPDV8nRvd"
      },
      "source": [
        "## Trabalhando com Arrays Numpy\n"
      ]
    },
    {
      "cell_type": "code",
      "metadata": {
        "id": "VkjsahkCnX6l"
      },
      "source": [
        "import numpy as np"
      ],
      "execution_count": null,
      "outputs": []
    },
    {
      "cell_type": "markdown",
      "metadata": {
        "id": "e5HAMNHcpXOH"
      },
      "source": [
        "## Carregando arquivos .txt"
      ]
    },
    {
      "cell_type": "code",
      "metadata": {
        "id": "ShUqwJHUo8ZZ"
      },
      "source": [
        "km = np.loadtxt('/carros-km.txt')"
      ],
      "execution_count": null,
      "outputs": []
    },
    {
      "cell_type": "markdown",
      "metadata": {
        "id": "BjIPZoxapggZ"
      },
      "source": [
        "Atribuindo Tipo as variaveis do Arquivo"
      ]
    },
    {
      "cell_type": "code",
      "metadata": {
        "id": "0WPK8VBlpDFI"
      },
      "source": [
        "anos = np.loadtxt('/carros-anos.txt',dtype = int)"
      ],
      "execution_count": null,
      "outputs": []
    },
    {
      "cell_type": "markdown",
      "metadata": {
        "id": "pMMqQO4Gz-sf"
      },
      "source": [
        "## Obter a Kilometragem Média Por Ano"
      ]
    },
    {
      "cell_type": "code",
      "metadata": {
        "id": "_Cld_9t_pHeD"
      },
      "source": [
        "km_media = km / (2021 - anos)"
      ],
      "execution_count": null,
      "outputs": []
    },
    {
      "cell_type": "code",
      "metadata": {
        "id": "hDVWNuJd0TcZ"
      },
      "source": [
        "km_media"
      ],
      "execution_count": null,
      "outputs": []
    },
    {
      "cell_type": "markdown",
      "metadata": {
        "id": "3TZtVcLrtw1Z"
      },
      "source": [
        "## Operações Matemáticas com Python"
      ]
    },
    {
      "cell_type": "markdown",
      "metadata": {
        "id": "nhVPtrl3t5Zi"
      },
      "source": [
        "Adição (+)"
      ]
    },
    {
      "cell_type": "code",
      "metadata": {
        "id": "w0Be24zWt9m-"
      },
      "source": [
        "2+2"
      ],
      "execution_count": null,
      "outputs": []
    },
    {
      "cell_type": "markdown",
      "metadata": {
        "id": "18rd22N0uBQY"
      },
      "source": [
        "Subtração (-)"
      ]
    },
    {
      "cell_type": "code",
      "metadata": {
        "id": "lj0vN32PuD2E"
      },
      "source": [
        "4-2"
      ],
      "execution_count": null,
      "outputs": []
    },
    {
      "cell_type": "markdown",
      "metadata": {
        "id": "nXy0idScuHim"
      },
      "source": [
        "Multiplicação (*)"
      ]
    },
    {
      "cell_type": "code",
      "metadata": {
        "id": "oOzh5EAYuLCb"
      },
      "source": [
        "2*2"
      ],
      "execution_count": null,
      "outputs": []
    },
    {
      "cell_type": "markdown",
      "metadata": {
        "id": "TtP043OzuPEE"
      },
      "source": [
        "Divisão (/) e (//)"
      ]
    },
    {
      "cell_type": "code",
      "metadata": {
        "id": "Vy_EgBsxuSZy"
      },
      "source": [
        "10/3"
      ],
      "execution_count": null,
      "outputs": []
    },
    {
      "cell_type": "code",
      "metadata": {
        "id": "ZCi7ixivuUR9"
      },
      "source": [
        "10//3"
      ],
      "execution_count": null,
      "outputs": []
    },
    {
      "cell_type": "markdown",
      "metadata": {
        "id": "8o073Q4puXg2"
      },
      "source": [
        "Exponenciação (**)"
      ]
    },
    {
      "cell_type": "code",
      "metadata": {
        "id": "7i-6CPuguZtW"
      },
      "source": [
        "2**3"
      ],
      "execution_count": null,
      "outputs": []
    },
    {
      "cell_type": "markdown",
      "metadata": {
        "id": "G61Hrrbyuenk"
      },
      "source": [
        "Resto da Divisão (%)"
      ]
    },
    {
      "cell_type": "code",
      "metadata": {
        "id": "G5gLJgxBuiPS"
      },
      "source": [
        "10%3"
      ],
      "execution_count": null,
      "outputs": []
    },
    {
      "cell_type": "markdown",
      "metadata": {
        "id": "ecnD0ZdIuoEn"
      },
      "source": [
        "Expressões Matemáticas"
      ]
    },
    {
      "cell_type": "code",
      "metadata": {
        "id": "mZmGidcduqhw"
      },
      "source": [
        "5*2+3*2"
      ],
      "execution_count": null,
      "outputs": []
    },
    {
      "cell_type": "code",
      "metadata": {
        "id": "X06afkqNu1F4"
      },
      "source": [
        "(5*2)+(3*2)"
      ],
      "execution_count": null,
      "outputs": []
    },
    {
      "cell_type": "code",
      "metadata": {
        "id": "sqN4jMYLu469"
      },
      "source": [
        "5*(2+3)*2"
      ],
      "execution_count": null,
      "outputs": []
    },
    {
      "cell_type": "markdown",
      "metadata": {
        "id": "bSV7mhtKu7mo"
      },
      "source": [
        "A Variável _"
      ]
    },
    {
      "cell_type": "code",
      "metadata": {
        "id": "rBn7s5N0u-uW"
      },
      "source": [
        "_"
      ],
      "execution_count": null,
      "outputs": []
    },
    {
      "cell_type": "code",
      "metadata": {
        "id": "_AML4zXJvAN6"
      },
      "source": [
        "_ /2"
      ],
      "execution_count": null,
      "outputs": []
    },
    {
      "cell_type": "code",
      "metadata": {
        "id": "DPfpNwERvEKq"
      },
      "source": [
        "_ - 15"
      ],
      "execution_count": null,
      "outputs": []
    },
    {
      "cell_type": "markdown",
      "metadata": {
        "id": "LDexcuqfVC4V"
      },
      "source": [
        "## Conversão de Tipos"
      ]
    },
    {
      "cell_type": "code",
      "metadata": {
        "id": "k_a-wK_vVJFl"
      },
      "source": [
        "a = 30\n",
        "b = 20\n",
        "pi = 3.141592\n",
        "c = 'Lucas'\n",
        "d = ' Abrahão'"
      ],
      "execution_count": null,
      "outputs": []
    },
    {
      "cell_type": "code",
      "metadata": {
        "id": "4XCJgr4WVY5e"
      },
      "source": [
        "a + b"
      ],
      "execution_count": null,
      "outputs": []
    },
    {
      "cell_type": "code",
      "metadata": {
        "id": "a0vSmOBTVbGc"
      },
      "source": [
        "type(a)"
      ],
      "execution_count": null,
      "outputs": []
    },
    {
      "cell_type": "code",
      "metadata": {
        "id": "ChmHCe1gVe1M"
      },
      "source": [
        "str(a)"
      ],
      "execution_count": null,
      "outputs": []
    },
    {
      "cell_type": "code",
      "metadata": {
        "id": "WOwAYyxXVihQ"
      },
      "source": [
        "type(str(a))"
      ],
      "execution_count": null,
      "outputs": []
    },
    {
      "cell_type": "code",
      "metadata": {
        "id": "fW_pbStuVwN6"
      },
      "source": [
        "c + d"
      ],
      "execution_count": null,
      "outputs": []
    },
    {
      "cell_type": "markdown",
      "metadata": {
        "id": "f9eOmrjzfZia"
      },
      "source": [
        "## Formatação de Strings"
      ]
    },
    {
      "cell_type": "markdown",
      "metadata": {
        "id": "MoeKfLlrfz9C"
      },
      "source": [
        "str.format()"
      ]
    },
    {
      "cell_type": "code",
      "metadata": {
        "id": "UB2RB5JCfegU"
      },
      "source": [
        "print('Olá {}!'.format('Lucas'))"
      ],
      "execution_count": null,
      "outputs": []
    },
    {
      "cell_type": "code",
      "metadata": {
        "id": "jUOPUgj3gKf7"
      },
      "source": [
        "print('Olá {}, Este é seu acesso de número {}'.format('Lucas',5489))"
      ],
      "execution_count": null,
      "outputs": []
    },
    {
      "cell_type": "code",
      "metadata": {
        "id": "lyjC4DX9gczC"
      },
      "source": [
        "print('Olá {nome}, Este é seu acesso de número {acessos}'.format(nome = 'Lucas', acessos = 5489))"
      ],
      "execution_count": null,
      "outputs": []
    },
    {
      "cell_type": "markdown",
      "metadata": {
        "id": "Zi5DMFUPgl08"
      },
      "source": [
        "f-strings"
      ]
    },
    {
      "cell_type": "code",
      "metadata": {
        "id": "AdEN0GrngnW0"
      },
      "source": [
        "nome = 'Lucas'\n",
        "acessos = 5489"
      ],
      "execution_count": null,
      "outputs": []
    },
    {
      "cell_type": "code",
      "metadata": {
        "id": "TOgQj6EUgueR"
      },
      "source": [
        "print(f'Olá {nome}, Este é seu acesso de número {acessos}')"
      ],
      "execution_count": null,
      "outputs": []
    },
    {
      "cell_type": "markdown",
      "metadata": {
        "id": "P72Fs5dSiWNO"
      },
      "source": [
        "## Listas"
      ]
    },
    {
      "cell_type": "code",
      "metadata": {
        "id": "U00ZJ_YviaXL"
      },
      "source": [
        "Acessorios = ['Rodas de liga', 'Travas elétricas', 'Piloto automático', 'Bancos de couro', 'Ar condicionado', 'Sensor de estacionamento', 'Sensor crepuscular', 'Sensor de chuva']\n",
        "Acessorios"
      ],
      "execution_count": null,
      "outputs": []
    },
    {
      "cell_type": "code",
      "metadata": {
        "id": "iBzNu3-Li66b"
      },
      "source": [
        "type(Acessorios)"
      ],
      "execution_count": null,
      "outputs": []
    },
    {
      "cell_type": "code",
      "metadata": {
        "id": "VALmQzuojKBP"
      },
      "source": [
        "Carro_1 = ['Jetta Variant', 'Motor 4.0 Turbo', 2003, 44410.0, False, ['Rodas de liga', 'Travas elétricas', 'Piloto automático'], 88078.64]"
      ],
      "execution_count": null,
      "outputs": []
    },
    {
      "cell_type": "code",
      "metadata": {
        "id": "pDplJfkSjK-e"
      },
      "source": [
        "Carro_1"
      ],
      "execution_count": null,
      "outputs": []
    },
    {
      "cell_type": "code",
      "metadata": {
        "id": "W4lKXYK_jNNF"
      },
      "source": [
        "Carro_2 = ['Passat', 'Motor Diesel', 1991, 5712.0, False, ['Central multimídia', 'Teto panorâmico', 'Freios ABS'], 106161.94]"
      ],
      "execution_count": null,
      "outputs": []
    },
    {
      "cell_type": "code",
      "metadata": {
        "id": "tB5bcrtHjQ5V"
      },
      "source": [
        "Carro_2"
      ],
      "execution_count": null,
      "outputs": []
    },
    {
      "cell_type": "code",
      "metadata": {
        "id": "wJfs3OfAjXAo"
      },
      "source": [
        "carros = [Carro_1,Carro_2]\n",
        "carros"
      ],
      "execution_count": null,
      "outputs": []
    },
    {
      "cell_type": "markdown",
      "metadata": {
        "id": "nTKV2-wGjy56"
      },
      "source": [
        "### Operações com Listas"
      ]
    },
    {
      "cell_type": "markdown",
      "metadata": {
        "id": "qVOi6J3dj12w"
      },
      "source": [
        "#### x in A"
      ]
    },
    {
      "cell_type": "markdown",
      "metadata": {
        "id": "j1rrcTZgj4P6"
      },
      "source": [
        "retorna True se um elemento da Lista A for igual a x"
      ]
    },
    {
      "cell_type": "code",
      "metadata": {
        "id": "O-9mLD4uj-ad"
      },
      "source": [
        "Acessorios"
      ],
      "execution_count": null,
      "outputs": []
    },
    {
      "cell_type": "code",
      "metadata": {
        "id": "mwc33poTlGxy"
      },
      "source": [
        "'Rodas de liga' in Acessorios"
      ],
      "execution_count": null,
      "outputs": []
    },
    {
      "cell_type": "code",
      "metadata": {
        "id": "L3VuTZEelPRi"
      },
      "source": [
        "'4 x 4' in Acessorios"
      ],
      "execution_count": null,
      "outputs": []
    },
    {
      "cell_type": "code",
      "metadata": {
        "id": "GqPIrWcjlXM9"
      },
      "source": [
        "'Rodas de liga' not in Acessorios"
      ],
      "execution_count": null,
      "outputs": []
    },
    {
      "cell_type": "code",
      "metadata": {
        "id": "phwq5lCelZ4U"
      },
      "source": [
        "'4 x 4' not in Acessorios"
      ],
      "execution_count": null,
      "outputs": []
    },
    {
      "cell_type": "markdown",
      "metadata": {
        "id": "cgG-VTJgkVlN"
      },
      "source": [
        "#### A +B"
      ]
    },
    {
      "cell_type": "markdown",
      "metadata": {
        "id": "GOlCVHCqkZYX"
      },
      "source": [
        "Concatena Duas Listas"
      ]
    },
    {
      "cell_type": "code",
      "metadata": {
        "id": "cJPbTF1JkoZp"
      },
      "source": [
        "A = ['Rodas de liga', 'Travas elétricas', 'Piloto automático', 'Bancos de couro']\n",
        "B = ['Ar condicionado', 'Sensor de estacionamento', 'Sensor crepuscular', 'Sensor de chuva']"
      ],
      "execution_count": null,
      "outputs": []
    },
    {
      "cell_type": "code",
      "metadata": {
        "id": "j1hVj1Krl2Qd"
      },
      "source": [
        "A"
      ],
      "execution_count": null,
      "outputs": []
    },
    {
      "cell_type": "code",
      "metadata": {
        "id": "ziGw0gW-l5Bv"
      },
      "source": [
        "B"
      ],
      "execution_count": null,
      "outputs": []
    },
    {
      "cell_type": "code",
      "metadata": {
        "id": "TRM_7gSrl6RK"
      },
      "source": [
        "A + B "
      ],
      "execution_count": null,
      "outputs": []
    },
    {
      "cell_type": "code",
      "metadata": {
        "id": "dePXH9lvmE71"
      },
      "source": [
        "C = A + B"
      ],
      "execution_count": null,
      "outputs": []
    },
    {
      "cell_type": "code",
      "metadata": {
        "id": "yUIlhxojmJJu"
      },
      "source": [
        "C"
      ],
      "execution_count": null,
      "outputs": []
    },
    {
      "cell_type": "markdown",
      "metadata": {
        "id": "jeNqsojJkdBX"
      },
      "source": [
        "#### len(A)"
      ]
    },
    {
      "cell_type": "markdown",
      "metadata": {
        "id": "uC3tFHockkWI"
      },
      "source": [
        "Tamanho da Lista"
      ]
    },
    {
      "cell_type": "code",
      "metadata": {
        "id": "Cyd8AcAnko4k"
      },
      "source": [
        "len(C)"
      ],
      "execution_count": null,
      "outputs": []
    },
    {
      "cell_type": "markdown",
      "metadata": {
        "id": "niRpsggpuIIi"
      },
      "source": [
        "###Seleções em listas"
      ]
    },
    {
      "cell_type": "code",
      "metadata": {
        "id": "8EcLg4ZZukHI"
      },
      "source": [
        "Acessorios"
      ],
      "execution_count": null,
      "outputs": []
    },
    {
      "cell_type": "code",
      "metadata": {
        "id": "6wHYD1jIuqo6"
      },
      "source": [
        "Acessorios[0]"
      ],
      "execution_count": null,
      "outputs": []
    },
    {
      "cell_type": "code",
      "metadata": {
        "id": "Ok4SNjlFutNk"
      },
      "source": [
        "Acessorios[3]"
      ],
      "execution_count": null,
      "outputs": []
    },
    {
      "cell_type": "code",
      "metadata": {
        "id": "j_E9jxbFuycX"
      },
      "source": [
        "Acessorios[-1]"
      ],
      "execution_count": null,
      "outputs": []
    },
    {
      "cell_type": "code",
      "metadata": {
        "id": "mYoMyzDQu9p6"
      },
      "source": [
        "carros[0]"
      ],
      "execution_count": null,
      "outputs": []
    },
    {
      "cell_type": "code",
      "metadata": {
        "id": "Jf_uyyy6vIBi"
      },
      "source": [
        "carros[0][0]"
      ],
      "execution_count": null,
      "outputs": []
    },
    {
      "cell_type": "code",
      "metadata": {
        "id": "uq8zQvGCvP7M"
      },
      "source": [
        "carros[0][-2]"
      ],
      "execution_count": null,
      "outputs": []
    },
    {
      "cell_type": "code",
      "metadata": {
        "id": "GTExM6TRvTCB"
      },
      "source": [
        "carros[0][-2][1]"
      ],
      "execution_count": null,
      "outputs": []
    },
    {
      "cell_type": "markdown",
      "metadata": {
        "id": "_zlDW1YuvgAT"
      },
      "source": [
        "Slices\n",
        " A [I:J]"
      ]
    },
    {
      "cell_type": "markdown",
      "metadata": {
        "id": "d433NdUOv4mR"
      },
      "source": [
        "I é o primeiro valor da lista\n"
      ]
    },
    {
      "cell_type": "markdown",
      "metadata": {
        "id": "SgPqVDI0wI-X"
      },
      "source": [
        "J é o final, não entra na lista, somente o anterior\n"
      ]
    },
    {
      "cell_type": "code",
      "metadata": {
        "id": "fhXm1b07vho6"
      },
      "source": [
        "Acessorios"
      ],
      "execution_count": null,
      "outputs": []
    },
    {
      "cell_type": "code",
      "metadata": {
        "id": "QPELCKUUwLb5"
      },
      "source": [
        "Acessorios[2:5]\n",
        "#2 = Piloto Automatico\n",
        "#5 = Sensor de Estacionamento"
      ],
      "execution_count": null,
      "outputs": []
    },
    {
      "cell_type": "code",
      "metadata": {
        "id": "GcLblvqPwrKa"
      },
      "source": [
        "Acessorios[2:]\n",
        "# Não colocar nada significa ir até o final da lista"
      ],
      "execution_count": null,
      "outputs": []
    },
    {
      "cell_type": "code",
      "metadata": {
        "id": "dgB3LafCwxca"
      },
      "source": [
        "Acessorios[:5]\n",
        "#O mesmo é valido no começo"
      ],
      "execution_count": null,
      "outputs": []
    },
    {
      "cell_type": "markdown",
      "metadata": {
        "id": "RmcAKvzwy7iL"
      },
      "source": [
        "### Métodos em Listas"
      ]
    },
    {
      "cell_type": "code",
      "metadata": {
        "id": "KdUBtB1Ty-Le"
      },
      "source": [
        "Acessorios"
      ],
      "execution_count": null,
      "outputs": []
    },
    {
      "cell_type": "code",
      "metadata": {
        "id": "VOARorLxze-H"
      },
      "source": [
        "Acessorios.sort()\n",
        "#Ordena alfabéticamente ou numéricamente\n",
        "Acessorios"
      ],
      "execution_count": null,
      "outputs": []
    },
    {
      "cell_type": "code",
      "metadata": {
        "id": "2zGPOnZtzzcD"
      },
      "source": [
        "Acessorios.append('4x4')\n",
        "#Adiciona um item ao final da Lista\n",
        "Acessorios"
      ],
      "execution_count": null,
      "outputs": []
    },
    {
      "cell_type": "code",
      "metadata": {
        "id": "njhJPqzZ0UnH"
      },
      "source": [
        "Acessorios.pop()\n",
        "#remove um item da lista, se não houver numero no indice remove o ultimo item"
      ],
      "execution_count": null,
      "outputs": []
    },
    {
      "cell_type": "code",
      "metadata": {
        "id": "aCk5o4920hBd"
      },
      "source": [
        "Acessorios"
      ],
      "execution_count": null,
      "outputs": []
    },
    {
      "cell_type": "code",
      "metadata": {
        "id": "SSRiBpwi0rVJ"
      },
      "source": [
        "Acessorios2 = Acessorios.copy()\n",
        "#Copia a lista\n",
        "Acessorios2"
      ],
      "execution_count": null,
      "outputs": []
    },
    {
      "cell_type": "code",
      "metadata": {
        "id": "2UEjIA_J1TA3"
      },
      "source": [
        "Acessorios2.append('4 x 4')"
      ],
      "execution_count": null,
      "outputs": []
    },
    {
      "cell_type": "code",
      "metadata": {
        "id": "FQnKLhT91XFh"
      },
      "source": [
        "Acessorios.append('Travas elétricas')"
      ],
      "execution_count": null,
      "outputs": []
    },
    {
      "cell_type": "code",
      "metadata": {
        "id": "U_ZVqbAr1uLY"
      },
      "source": [
        "Acessorios"
      ],
      "execution_count": null,
      "outputs": []
    },
    {
      "cell_type": "code",
      "metadata": {
        "id": "dyin2ria1ZLx"
      },
      "source": [
        "Acessorios2"
      ],
      "execution_count": null,
      "outputs": []
    },
    {
      "cell_type": "code",
      "metadata": {
        "id": "zUyCQbsw15ij"
      },
      "source": [
        "Acessorios.copy()\n",
        "#É equivalente a\n",
        "Acessorios[:]\n",
        "\n",
        "Acessorios2 = Acessorios.copy()\n",
        "#          OU\n",
        "Acessorios2 = Acessorios[:]"
      ],
      "execution_count": null,
      "outputs": []
    },
    {
      "cell_type": "markdown",
      "metadata": {
        "id": "BG6qfQGTnVKY"
      },
      "source": [
        "##Estruturas de Repetição"
      ]
    },
    {
      "cell_type": "code",
      "metadata": {
        "id": "qubY9yb5nZPJ"
      },
      "source": [
        "quadrado = []\n",
        "\n",
        "for i in range(10):\n",
        "  quadrado.append( i ** 2)\n",
        "\n",
        "quadrado"
      ],
      "execution_count": null,
      "outputs": []
    },
    {
      "cell_type": "code",
      "metadata": {
        "id": "7kM8JLbwujin"
      },
      "source": [
        "[i ** 2 for i in range (10)]"
      ],
      "execution_count": null,
      "outputs": []
    },
    {
      "cell_type": "markdown",
      "metadata": {
        "id": "HTDRLCoNwKx0"
      },
      "source": [
        "###Loops Aninhados"
      ]
    },
    {
      "cell_type": "code",
      "metadata": {
        "id": "S-C7d3gMwOZb"
      },
      "source": [
        "dados = [ \n",
        "    ['Rodas de liga', 'Travas elétricas', 'Piloto automático', 'Bancos de couro', 'Ar condicionado', 'Sensor de estacionamento', 'Sensor crepuscular', 'Sensor de chuva'],\n",
        "    ['Central multimídia', 'Teto panorâmico', 'Freios ABS', '4 X 4', 'Painel digital', 'Piloto automático', 'Bancos de couro', 'Câmera de estacionamento'],\n",
        "    ['Piloto automático', 'Controle de estabilidade', 'Sensor crepuscular', 'Freios ABS', 'Câmbio automático', 'Bancos de couro', 'Central multimídia', 'Vidros elétricos']\n",
        "]\n",
        "dados"
      ],
      "execution_count": null,
      "outputs": []
    },
    {
      "cell_type": "code",
      "metadata": {
        "id": "F8eYb1cZwXEV"
      },
      "source": [
        "for lista in dados:\n",
        "  print(lista)"
      ],
      "execution_count": null,
      "outputs": []
    },
    {
      "cell_type": "code",
      "metadata": {
        "id": "gLx-u9zvwdC6"
      },
      "source": [
        "for lista in dados:\n",
        "  for item in lista:\n",
        "    print(item)"
      ],
      "execution_count": null,
      "outputs": []
    },
    {
      "cell_type": "code",
      "metadata": {
        "id": "ouxgZ1LYw_LT"
      },
      "source": [
        "acessorios = []\n",
        "\n",
        "for lista in dados:\n",
        "  for item in lista:\n",
        "    acessorios.append(item)\n",
        "\n",
        "acessorios"
      ],
      "execution_count": null,
      "outputs": []
    },
    {
      "cell_type": "markdown",
      "metadata": {
        "id": "m0c3OwOyxWFT"
      },
      "source": [
        "set()"
      ]
    },
    {
      "cell_type": "code",
      "metadata": {
        "id": "X5W-hCkNxZWv"
      },
      "source": [
        "list(set(acessorios))"
      ],
      "execution_count": null,
      "outputs": []
    },
    {
      "cell_type": "markdown",
      "metadata": {
        "id": "Vt8Xyx1EyB0w"
      },
      "source": [
        "OU"
      ]
    },
    {
      "cell_type": "code",
      "metadata": {
        "id": "C5EdAfMAyDV2"
      },
      "source": [
        "list(set([item for lista in dados for item in lista]))"
      ],
      "execution_count": null,
      "outputs": []
    },
    {
      "cell_type": "markdown",
      "metadata": {
        "id": "nYe_UttAzD1n"
      },
      "source": [
        "##IF"
      ]
    },
    {
      "cell_type": "code",
      "metadata": {
        "id": "N26iYpvAzF84"
      },
      "source": [
        "# 1º item da lista - Nome do veículo\n",
        "# 2º item da lista - Ano de fabricação\n",
        "# 3º item da lista - Veículo é zero km?\n",
        "\n",
        "dados = [\n",
        "    ['Jetta Variant', 2003, False],\n",
        "    ['Passat', 1991, False],\n",
        "    ['Crossfox', 1990, False],\n",
        "    ['DS5', 2019, True],\n",
        "    ['Aston Martin DB4', 2006, False],\n",
        "    ['Palio Weekend', 2012, False],\n",
        "    ['A5', 2019, True],\n",
        "    ['Série 3 Cabrio', 2009, False],\n",
        "    ['Dodge Jorney', 2019, False],\n",
        "    ['Carens', 2011, False]\n",
        "]\n",
        "dados"
      ],
      "execution_count": null,
      "outputs": []
    },
    {
      "cell_type": "markdown",
      "metadata": {
        "id": "TUEPgg_Yz6hW"
      },
      "source": [
        "Mostre Apenas os Veículos Zero KM"
      ]
    },
    {
      "cell_type": "code",
      "metadata": {
        "id": "y-8fATMl0AB2"
      },
      "source": [
        "zero_km = []\n",
        "\n",
        "for lista in dados:\n",
        "  if(lista[2] == True):\n",
        "    zero_km.append(lista)\n",
        "\n",
        "zero_km"
      ],
      "execution_count": null,
      "outputs": []
    },
    {
      "cell_type": "code",
      "metadata": {
        "id": "rZwe0qeL52PX"
      },
      "source": [
        "zero_km_f = []\n",
        "\n",
        "for lista in dados:\n",
        "  if(lista[2] == False):\n",
        "    zero_km_f.append(lista)\n",
        "\n",
        "zero_km_f"
      ],
      "execution_count": null,
      "outputs": []
    },
    {
      "cell_type": "markdown",
      "metadata": {
        "id": "1OWf70xQ7O6t"
      },
      "source": [
        "OU"
      ]
    },
    {
      "cell_type": "code",
      "metadata": {
        "id": "JpHAz2Y47Px0"
      },
      "source": [
        "[lista for lista in dados if lista[2] == True]"
      ],
      "execution_count": null,
      "outputs": []
    },
    {
      "cell_type": "markdown",
      "metadata": {
        "id": "SvgCkwd9QIiC"
      },
      "source": [
        "## Array e NumPy"
      ]
    },
    {
      "cell_type": "markdown",
      "metadata": {
        "id": "aaKdbQduQ4E0"
      },
      "source": [
        "Importando"
      ]
    },
    {
      "cell_type": "code",
      "metadata": {
        "id": "Vtc_VhvSQ5cb"
      },
      "source": [
        "import numpy"
      ],
      "execution_count": null,
      "outputs": []
    },
    {
      "cell_type": "markdown",
      "metadata": {
        "id": "MLaqFP3RQ84V"
      },
      "source": [
        "usando arange"
      ]
    },
    {
      "cell_type": "code",
      "metadata": {
        "id": "zRATh6Q3Q_NY"
      },
      "source": [
        "numpy.arange(10)"
      ],
      "execution_count": null,
      "outputs": []
    },
    {
      "cell_type": "markdown",
      "metadata": {
        "id": "Th92Gs9ERfnw"
      },
      "source": [
        "Importando todo o pacote e atribuindo um novo nome"
      ]
    },
    {
      "cell_type": "code",
      "metadata": {
        "id": "YrW-FewTRlJ_"
      },
      "source": [
        "import numpy as np"
      ],
      "execution_count": null,
      "outputs": []
    },
    {
      "cell_type": "code",
      "metadata": {
        "id": "HtfRl5koRtTr"
      },
      "source": [
        "np.arange(10)"
      ],
      "execution_count": null,
      "outputs": []
    },
    {
      "cell_type": "markdown",
      "metadata": {
        "id": "-OK9wqdNRyC3"
      },
      "source": [
        "Importando parte do Pacote"
      ]
    },
    {
      "cell_type": "code",
      "metadata": {
        "id": "ZrDfQ0hCR1gl"
      },
      "source": [
        "from numpy import arange"
      ],
      "execution_count": null,
      "outputs": []
    },
    {
      "cell_type": "code",
      "metadata": {
        "id": "qTKJL_HVR5xi"
      },
      "source": [
        "arange(10)"
      ],
      "execution_count": null,
      "outputs": []
    },
    {
      "cell_type": "markdown",
      "metadata": {
        "id": "PMVrmOhrR_Fr"
      },
      "source": [
        "## Criando Arrays Numpy"
      ]
    },
    {
      "cell_type": "markdown",
      "metadata": {
        "id": "KGELB3vdSGL-"
      },
      "source": [
        "A partir de Listas"
      ]
    },
    {
      "cell_type": "code",
      "metadata": {
        "id": "G6KrVIY6SH0S"
      },
      "source": [
        "km = np.array([1000, 2300, 4937])"
      ],
      "execution_count": null,
      "outputs": []
    },
    {
      "cell_type": "code",
      "metadata": {
        "id": "FvKJ0E5gSScG"
      },
      "source": [
        "km"
      ],
      "execution_count": null,
      "outputs": []
    },
    {
      "cell_type": "code",
      "metadata": {
        "id": "KI39YdTnSVdM"
      },
      "source": [
        "type(km)"
      ],
      "execution_count": null,
      "outputs": []
    },
    {
      "cell_type": "code",
      "metadata": {
        "id": "Y5-q3EhPSb2x"
      },
      "source": [
        "km.dtype"
      ],
      "execution_count": null,
      "outputs": []
    },
    {
      "cell_type": "markdown",
      "metadata": {
        "id": "lxPPHukBTYC6"
      },
      "source": [
        "A partir de dados externos"
      ]
    },
    {
      "cell_type": "code",
      "metadata": {
        "id": "oo2dS1sfTaIg"
      },
      "source": [
        "km = np.loadtxt(fname = '/carros-km.txt', dtype = int)"
      ],
      "execution_count": null,
      "outputs": []
    },
    {
      "cell_type": "code",
      "metadata": {
        "id": "y_sfTjC4T5t6"
      },
      "source": [
        "km"
      ],
      "execution_count": null,
      "outputs": []
    },
    {
      "cell_type": "code",
      "metadata": {
        "id": "Y-sJceyrT9x1"
      },
      "source": [
        "km.dtype"
      ],
      "execution_count": null,
      "outputs": []
    },
    {
      "cell_type": "code",
      "metadata": {
        "id": "NVo_D6dPT-6I"
      },
      "source": [
        "dados = [ \n",
        "    ['Rodas de liga', 'Travas elétricas', 'Piloto automático', 'Bancos de couro', 'Ar condicionado', 'Sensor de estacionamento', 'Sensor crepuscular', 'Sensor de chuva'],\n",
        "    ['Central multimídia', 'Teto panorâmico', 'Freios ABS', '4 X 4', 'Painel digital', 'Piloto automático', 'Bancos de couro', 'Câmera de estacionamento'],\n",
        "    ['Piloto automático', 'Controle de estabilidade', 'Sensor crepuscular', 'Freios ABS', 'Câmbio automático', 'Bancos de couro', 'Central multimídia', 'Vidros elétricos']\n",
        "]\n",
        "dados"
      ],
      "execution_count": null,
      "outputs": []
    },
    {
      "cell_type": "code",
      "metadata": {
        "id": "DHHTAjuHWHVy"
      },
      "source": [
        "acessorios = np.array(dados)"
      ],
      "execution_count": null,
      "outputs": []
    },
    {
      "cell_type": "code",
      "metadata": {
        "id": "xzJvaqUJWOc-"
      },
      "source": [
        "acessorios"
      ],
      "execution_count": null,
      "outputs": []
    },
    {
      "cell_type": "code",
      "metadata": {
        "id": "qXXRcSsvWUEo"
      },
      "source": [
        "km.shape"
      ],
      "execution_count": null,
      "outputs": []
    },
    {
      "cell_type": "code",
      "metadata": {
        "id": "-mtvxx5bWZoj"
      },
      "source": [
        "acessorios.shape"
      ],
      "execution_count": null,
      "outputs": []
    },
    {
      "cell_type": "markdown",
      "metadata": {
        "id": "-VH9u1V3WjbC"
      },
      "source": [
        "Comparando desempenho com listas"
      ]
    },
    {
      "cell_type": "code",
      "metadata": {
        "id": "ISYNpDGpWnEy"
      },
      "source": [
        "np_array = np.arange(1000000)"
      ],
      "execution_count": null,
      "outputs": []
    },
    {
      "cell_type": "code",
      "metadata": {
        "id": "shg10uEYWyLo"
      },
      "source": [
        "py_list = list(range(1000000))"
      ],
      "execution_count": null,
      "outputs": []
    },
    {
      "cell_type": "code",
      "metadata": {
        "id": "2cTtmVCYW7gc"
      },
      "source": [
        "%time for _ in range (100): np_array *= 2"
      ],
      "execution_count": null,
      "outputs": []
    },
    {
      "cell_type": "code",
      "metadata": {
        "id": "d9MiCoGIXNuN"
      },
      "source": [
        "%time for _ in range (100) : py_list = [ x * 2 for x in py_list]"
      ],
      "execution_count": null,
      "outputs": []
    },
    {
      "cell_type": "markdown",
      "metadata": {
        "id": "_Ev0fMGGXtF6"
      },
      "source": [
        "##Operações Aritméticas com Array Numpy"
      ]
    },
    {
      "cell_type": "markdown",
      "metadata": {
        "id": "lQ5Vrn7nX4Gf"
      },
      "source": [
        "operações entre arrays e constantes"
      ]
    },
    {
      "cell_type": "code",
      "metadata": {
        "id": "gBlUFfk6Xw9_"
      },
      "source": [
        "km = [44410., 5712., 37123., 0., 25757.]\n",
        "anos = [2003, 1991, 1990, 2019, 2006]"
      ],
      "execution_count": null,
      "outputs": []
    },
    {
      "cell_type": "code",
      "metadata": {
        "id": "VGevbI-dYP5Z"
      },
      "source": [
        "idade = 2021 - anos"
      ],
      "execution_count": null,
      "outputs": []
    },
    {
      "cell_type": "code",
      "metadata": {
        "id": "MD2kdKeVYWP0"
      },
      "source": [
        "km = np.array([44410., 5712., 37123., 0., 25757.])\n",
        "anos = np.array([2003, 1991, 1990, 2019, 2006])"
      ],
      "execution_count": null,
      "outputs": []
    },
    {
      "cell_type": "code",
      "metadata": {
        "id": "WwCWf1YMYXXR"
      },
      "source": [
        "idade = 2021 - anos"
      ],
      "execution_count": null,
      "outputs": []
    },
    {
      "cell_type": "code",
      "metadata": {
        "id": "l1QRgSelYnQ_"
      },
      "source": [
        "idade"
      ],
      "execution_count": null,
      "outputs": []
    },
    {
      "cell_type": "markdown",
      "metadata": {
        "id": "EHNXx-o-Y25T"
      },
      "source": [
        "##Operações entre arrays"
      ]
    },
    {
      "cell_type": "code",
      "metadata": {
        "id": "laLACut9Y7L3"
      },
      "source": [
        "km_media = 0\n",
        "km_media = km / idade"
      ],
      "execution_count": null,
      "outputs": []
    },
    {
      "cell_type": "code",
      "metadata": {
        "id": "fVzvuBLaZDzN"
      },
      "source": [
        "km_media"
      ],
      "execution_count": null,
      "outputs": []
    },
    {
      "cell_type": "markdown",
      "metadata": {
        "id": "Kx-WzpU1ZfGd"
      },
      "source": [
        "##Operações com Arrays de duas dimensões"
      ]
    },
    {
      "cell_type": "code",
      "metadata": {
        "id": "aQzZkiD1ZhmN"
      },
      "source": [
        "dados = np.array([km, anos])\n",
        "dados"
      ],
      "execution_count": null,
      "outputs": []
    },
    {
      "cell_type": "code",
      "metadata": {
        "id": "2ZwhyHFoZtjw"
      },
      "source": [
        "dados.shape"
      ],
      "execution_count": null,
      "outputs": []
    },
    {
      "cell_type": "code",
      "metadata": {
        "id": "4_3wXypSZufZ"
      },
      "source": [
        "dados[0]"
      ],
      "execution_count": null,
      "outputs": []
    },
    {
      "cell_type": "code",
      "metadata": {
        "id": "6IkeyRA2Z91B"
      },
      "source": [
        "dados[1]"
      ],
      "execution_count": null,
      "outputs": []
    },
    {
      "cell_type": "code",
      "metadata": {
        "id": "dn3ESZYZaB3s"
      },
      "source": [
        "km_media = dados[0] / ( 2021 - dados[1])\n",
        "km_media"
      ],
      "execution_count": null,
      "outputs": []
    },
    {
      "cell_type": "markdown",
      "metadata": {
        "id": "uIzSlKuwakXK"
      },
      "source": [
        "##Seleções com Arrays Numpy"
      ]
    },
    {
      "cell_type": "code",
      "metadata": {
        "id": "IAOFALuJaKnl"
      },
      "source": [
        "dados[1][2]"
      ],
      "execution_count": null,
      "outputs": []
    },
    {
      "cell_type": "code",
      "metadata": {
        "id": "Jhk9TdhpbT1D"
      },
      "source": [
        "dados[1,2]"
      ],
      "execution_count": null,
      "outputs": []
    },
    {
      "cell_type": "markdown",
      "metadata": {
        "id": "U-O91dTZbbDp"
      },
      "source": [
        "##Fatiamento"
      ]
    },
    {
      "cell_type": "code",
      "metadata": {
        "id": "cEKv3ThibcoI"
      },
      "source": [
        "contador = np.arange(10)\n",
        "contador"
      ],
      "execution_count": null,
      "outputs": []
    },
    {
      "cell_type": "code",
      "metadata": {
        "id": "YNiehaiKbmfp"
      },
      "source": [
        "contador[1:4]"
      ],
      "execution_count": null,
      "outputs": []
    },
    {
      "cell_type": "code",
      "metadata": {
        "id": "67R-9jL-cGVJ"
      },
      "source": [
        "contador[1:8:2]"
      ],
      "execution_count": null,
      "outputs": []
    },
    {
      "cell_type": "code",
      "metadata": {
        "id": "Ui7Ywf9VcWT3"
      },
      "source": [
        "contador[::2]"
      ],
      "execution_count": null,
      "outputs": []
    },
    {
      "cell_type": "code",
      "metadata": {
        "id": "apnN8kNccdUZ"
      },
      "source": [
        "contador[1::2]"
      ],
      "execution_count": null,
      "outputs": []
    },
    {
      "cell_type": "code",
      "metadata": {
        "id": "qqG9n6XEcg7r"
      },
      "source": [
        "dados"
      ],
      "execution_count": null,
      "outputs": []
    },
    {
      "cell_type": "code",
      "metadata": {
        "id": "WuBBdfzvcusf"
      },
      "source": [
        "dados[:, 1 :4]"
      ],
      "execution_count": null,
      "outputs": []
    },
    {
      "cell_type": "code",
      "metadata": {
        "id": "Bp4gwRDHc3v6"
      },
      "source": [
        "dados[:, 1 :3]"
      ],
      "execution_count": null,
      "outputs": []
    },
    {
      "cell_type": "markdown",
      "metadata": {
        "id": "RuUBcWMpdXbd"
      },
      "source": [
        "##Indexação com Array Booleano"
      ]
    },
    {
      "cell_type": "code",
      "metadata": {
        "id": "QYBFPtZEdRwU"
      },
      "source": [
        "contador = np.arange(10)\n",
        "contador"
      ],
      "execution_count": null,
      "outputs": []
    },
    {
      "cell_type": "code",
      "metadata": {
        "id": "mxYJ34EadTHs"
      },
      "source": [
        "contador > 5"
      ],
      "execution_count": null,
      "outputs": []
    },
    {
      "cell_type": "code",
      "metadata": {
        "id": "p-u1E6COdUm2"
      },
      "source": [
        "contador [contador > 5]"
      ],
      "execution_count": null,
      "outputs": []
    },
    {
      "cell_type": "code",
      "metadata": {
        "id": "CdqxTDWOds5z"
      },
      "source": [
        "contador [[False, False, False, False, False, False,  True,  True,  True,\n",
        "        True]]"
      ],
      "execution_count": null,
      "outputs": []
    },
    {
      "cell_type": "code",
      "metadata": {
        "id": "KMFBrnCMd1Lj"
      },
      "source": [
        "dados"
      ],
      "execution_count": null,
      "outputs": []
    },
    {
      "cell_type": "code",
      "metadata": {
        "id": "1kJRKagLd2Dl"
      },
      "source": [
        "dados[1] > 2000"
      ],
      "execution_count": null,
      "outputs": []
    },
    {
      "cell_type": "code",
      "metadata": {
        "id": "0DY9eq8qeCsD"
      },
      "source": [
        "dados[:,dados[1] > 2000]"
      ],
      "execution_count": null,
      "outputs": []
    },
    {
      "cell_type": "markdown",
      "metadata": {
        "id": "1qzjXui9iJik"
      },
      "source": [
        "##Atributos com Arrays Numpy"
      ]
    },
    {
      "cell_type": "code",
      "metadata": {
        "id": "BvqpuewqeNQJ"
      },
      "source": [
        "dados"
      ],
      "execution_count": null,
      "outputs": []
    },
    {
      "cell_type": "code",
      "metadata": {
        "id": "E1YqDMjTildO"
      },
      "source": [
        "dados = np.array([[44410.,  5712., 37123.,     0., 25757.],\n",
        "       [ 2003.,  1991.,  1990.,  2019.,  2006.]])"
      ],
      "execution_count": null,
      "outputs": []
    },
    {
      "cell_type": "markdown",
      "metadata": {
        "id": "Yyob20QViumo"
      },
      "source": [
        "Shape"
      ]
    },
    {
      "cell_type": "code",
      "metadata": {
        "id": "VhDZbmC4ixLB"
      },
      "source": [
        "dados.shape"
      ],
      "execution_count": null,
      "outputs": []
    },
    {
      "cell_type": "markdown",
      "metadata": {
        "id": "O_vftqeWi8Aj"
      },
      "source": [
        "ndim"
      ]
    },
    {
      "cell_type": "code",
      "metadata": {
        "id": "DAXZNxudi-cw"
      },
      "source": [
        "dados.ndim"
      ],
      "execution_count": null,
      "outputs": []
    },
    {
      "cell_type": "markdown",
      "metadata": {
        "id": "dzWQbN-nkRP_"
      },
      "source": [
        "Size"
      ]
    },
    {
      "cell_type": "code",
      "metadata": {
        "id": "-d3fyOeyjAwj"
      },
      "source": [
        "dados.size"
      ],
      "execution_count": null,
      "outputs": []
    },
    {
      "cell_type": "markdown",
      "metadata": {
        "id": "0IMWZvpYkV4w"
      },
      "source": [
        "dType"
      ]
    },
    {
      "cell_type": "code",
      "metadata": {
        "id": "YGhP7YC9kTcC"
      },
      "source": [
        "dados.dtype"
      ],
      "execution_count": null,
      "outputs": []
    },
    {
      "cell_type": "markdown",
      "metadata": {
        "id": "pEwkhYzXkkVO"
      },
      "source": [
        ".T (transposta)"
      ]
    },
    {
      "cell_type": "code",
      "metadata": {
        "id": "-Mgd7OMOkZic"
      },
      "source": [
        "dados.T"
      ],
      "execution_count": null,
      "outputs": []
    },
    {
      "cell_type": "code",
      "metadata": {
        "id": "hfzewcw-kl8S"
      },
      "source": [
        "dados.transpose()"
      ],
      "execution_count": null,
      "outputs": []
    },
    {
      "cell_type": "markdown",
      "metadata": {
        "id": "Pm429-DnlLK-"
      },
      "source": [
        "##Métodos com Array Numpy"
      ]
    },
    {
      "cell_type": "markdown",
      "metadata": {
        "id": "JXusSuvVmCxn"
      },
      "source": [
        "tolist()"
      ]
    },
    {
      "cell_type": "code",
      "metadata": {
        "id": "UIZjiyAqlOGl"
      },
      "source": [
        "dados.tolist()\n",
        "#Transforma em Lista"
      ],
      "execution_count": null,
      "outputs": []
    },
    {
      "cell_type": "markdown",
      "metadata": {
        "id": "MHVXfDCxmPct"
      },
      "source": [
        "ReShape"
      ]
    },
    {
      "cell_type": "code",
      "metadata": {
        "id": "iM3ul5L7mGeR"
      },
      "source": [
        "contador = np.arange(10)\n",
        "contador"
      ],
      "execution_count": null,
      "outputs": []
    },
    {
      "cell_type": "code",
      "metadata": {
        "id": "rGHGpVpMmhUt"
      },
      "source": [
        "contador.reshape(5,2)"
      ],
      "execution_count": null,
      "outputs": []
    },
    {
      "cell_type": "code",
      "metadata": {
        "id": "ygjfTWuYmsuV"
      },
      "source": [
        "contador.reshape((5,2), order = 'C')"
      ],
      "execution_count": null,
      "outputs": []
    },
    {
      "cell_type": "code",
      "metadata": {
        "id": "hyyvLIe2m0eE"
      },
      "source": [
        "contador.reshape((5,2), order = 'F')"
      ],
      "execution_count": null,
      "outputs": []
    },
    {
      "cell_type": "code",
      "metadata": {
        "id": "34zSy2d5m9IC"
      },
      "source": [
        "km = [44410, 5712, 37123, 0, 25757]\n",
        "anos = [2003, 1991, 1990, 2019, 2006]"
      ],
      "execution_count": null,
      "outputs": []
    },
    {
      "cell_type": "code",
      "metadata": {
        "id": "g1UUVkRdnOvi"
      },
      "source": [
        "info_carros = km + anos\n",
        "info_carros"
      ],
      "execution_count": null,
      "outputs": []
    },
    {
      "cell_type": "code",
      "metadata": {
        "id": "nI472IG0nU51"
      },
      "source": [
        "np.array(info_carros)"
      ],
      "execution_count": null,
      "outputs": []
    },
    {
      "cell_type": "code",
      "metadata": {
        "id": "SF8zJCQwoZlo"
      },
      "source": [
        "np.array(info_carros).reshape(2,5)"
      ],
      "execution_count": null,
      "outputs": []
    },
    {
      "cell_type": "code",
      "metadata": {
        "id": "xIJSK_pkocFk"
      },
      "source": [
        "np.array(info_carros).reshape((5,2), order = 'F')"
      ],
      "execution_count": null,
      "outputs": []
    },
    {
      "cell_type": "markdown",
      "metadata": {
        "id": "O-sAvBSWo8e3"
      },
      "source": [
        "ReSize"
      ]
    },
    {
      "cell_type": "code",
      "metadata": {
        "id": "jXatuib-o95A"
      },
      "source": [
        "dados_new = dados.copy()\n",
        "dados_new"
      ],
      "execution_count": null,
      "outputs": []
    },
    {
      "cell_type": "code",
      "metadata": {
        "id": "pUmtoJ_3pHkE"
      },
      "source": [
        "dados_new.resize((3,5), refcheck = False)"
      ],
      "execution_count": null,
      "outputs": []
    },
    {
      "cell_type": "code",
      "metadata": {
        "id": "M3Iz7m1RpPOX"
      },
      "source": [
        "dados_new"
      ],
      "execution_count": null,
      "outputs": []
    },
    {
      "cell_type": "code",
      "metadata": {
        "id": "Yb73fQE-pp40"
      },
      "source": [
        "dados_new[2] = dados_new[0] / (2021 - dados_new[1])"
      ],
      "execution_count": null,
      "outputs": []
    },
    {
      "cell_type": "code",
      "metadata": {
        "id": "TEJQ93thp6Mk"
      },
      "source": [
        "dados_new"
      ],
      "execution_count": null,
      "outputs": []
    },
    {
      "cell_type": "markdown",
      "metadata": {
        "id": "hE7CWN08q0zA"
      },
      "source": [
        "##Estatísticas com Arrays Numpy"
      ]
    },
    {
      "cell_type": "code",
      "metadata": {
        "id": "kSnF7QuzrZYY"
      },
      "source": [
        "anos = np.loadtxt(fname = \"/carros-anos.txt\", dtype = int)\n",
        "km = np.loadtxt(fname = \"/carros-km.txt\")\n",
        "valor = np.loadtxt(fname = \"/carros-valor.txt\")"
      ],
      "execution_count": null,
      "outputs": []
    },
    {
      "cell_type": "code",
      "metadata": {
        "id": "wEXhaGS1xRD3"
      },
      "source": [
        "anos.shape"
      ],
      "execution_count": null,
      "outputs": []
    },
    {
      "cell_type": "code",
      "metadata": {
        "id": "h7VKLEIaxTm0"
      },
      "source": [
        "dataset = np.column_stack((anos, km, valor))\n",
        "dataset"
      ],
      "execution_count": null,
      "outputs": []
    },
    {
      "cell_type": "code",
      "metadata": {
        "id": "S1iFDyn5xlKs"
      },
      "source": [
        "np.mean(dataset, axis = 0)"
      ],
      "execution_count": null,
      "outputs": []
    },
    {
      "cell_type": "code",
      "metadata": {
        "id": "wq18ul8ix2fc"
      },
      "source": [
        "np.mean(dataset[:,1])"
      ],
      "execution_count": null,
      "outputs": []
    },
    {
      "cell_type": "code",
      "metadata": {
        "id": "Y5tviJJ5yM8X"
      },
      "source": [
        "np.mean(dataset[:,2])"
      ],
      "execution_count": null,
      "outputs": []
    },
    {
      "cell_type": "code",
      "metadata": {
        "id": "WfHNpFZKyPK_"
      },
      "source": [
        "np.std(dataset[:,2])\n",
        "#desvio padrão"
      ],
      "execution_count": null,
      "outputs": []
    },
    {
      "cell_type": "code",
      "metadata": {
        "id": "UC4zo6rjyZEJ"
      },
      "source": [
        "dataset[:,1].sum()"
      ],
      "execution_count": null,
      "outputs": []
    },
    {
      "cell_type": "code",
      "metadata": {
        "id": "uEZ9FDbKygaI"
      },
      "source": [
        "np.sum(dataset, axis = 0)"
      ],
      "execution_count": null,
      "outputs": []
    },
    {
      "cell_type": "markdown",
      "metadata": {
        "id": "QVeoFSqQ01kh"
      },
      "source": [
        ""
      ]
    },
    {
      "cell_type": "markdown",
      "metadata": {
        "id": "2Z2MfEBY05k2"
      },
      "source": [
        "#Python para DataScience: Funções, Pacotes e Pandas Básico"
      ]
    },
    {
      "cell_type": "code",
      "metadata": {
        "id": "uLcUBYC92s-p"
      },
      "source": [
        "!python -V"
      ],
      "execution_count": null,
      "outputs": []
    },
    {
      "cell_type": "markdown",
      "metadata": {
        "id": "oAWae1qA3F3Z"
      },
      "source": [
        "##Trabalhando com Dados"
      ]
    },
    {
      "cell_type": "code",
      "metadata": {
        "id": "COKeNxhO2vO5"
      },
      "source": [
        "import pandas as pd"
      ],
      "execution_count": null,
      "outputs": []
    },
    {
      "cell_type": "code",
      "metadata": {
        "id": "JYK85wVRBjZJ"
      },
      "source": [
        "dataset = pd.read_csv('/db.csv', sep = ';')\n",
        "#pd.set_option('display.max_rows', 300)  maximo de linhas a ser visualizadas\n",
        "#pd.set_option('display.max_columns', 300)  maximo de colunas a ser visualizadas"
      ],
      "execution_count": null,
      "outputs": []
    },
    {
      "cell_type": "code",
      "metadata": {
        "id": "-W33khbpBrz0"
      },
      "source": [
        "dataset"
      ],
      "execution_count": null,
      "outputs": []
    },
    {
      "cell_type": "code",
      "metadata": {
        "id": "h6Vx6xO4B215"
      },
      "source": [
        "dataset.dtypes"
      ],
      "execution_count": null,
      "outputs": []
    },
    {
      "cell_type": "code",
      "metadata": {
        "id": "jNQUMs75Cz8W"
      },
      "source": [
        "dataset[['Quilometragem', 'Valor']].describe()"
      ],
      "execution_count": null,
      "outputs": []
    },
    {
      "cell_type": "code",
      "metadata": {
        "id": "3Frt_R1EDKv5"
      },
      "source": [
        "dataset.info()"
      ],
      "execution_count": null,
      "outputs": []
    },
    {
      "cell_type": "markdown",
      "metadata": {
        "id": "fTOt6M33EKUB"
      },
      "source": [
        "## Criando Tuplas"
      ]
    },
    {
      "cell_type": "code",
      "metadata": {
        "id": "J_O9agRLDT_2"
      },
      "source": [
        "()"
      ],
      "execution_count": null,
      "outputs": []
    },
    {
      "cell_type": "code",
      "metadata": {
        "id": "ZeO0qB8JEYII"
      },
      "source": [
        "1,2,3"
      ],
      "execution_count": null,
      "outputs": []
    },
    {
      "cell_type": "code",
      "metadata": {
        "id": "r5Gv6rjIEZAD"
      },
      "source": [
        "nome = \"Passat\"\n",
        "valor = 153000\n",
        "(nome, valor)"
      ],
      "execution_count": null,
      "outputs": []
    },
    {
      "cell_type": "code",
      "metadata": {
        "id": "V4jv391TEl09"
      },
      "source": [
        "nomes_carros = tuple(['Jetta Variant', 'Passat', 'Crossfox', 'DS5'])\n",
        "nomes_carros"
      ],
      "execution_count": null,
      "outputs": []
    },
    {
      "cell_type": "code",
      "metadata": {
        "id": "gFXOFN7RE3_t"
      },
      "source": [
        "type(nomes_carros)"
      ],
      "execution_count": null,
      "outputs": []
    },
    {
      "cell_type": "markdown",
      "metadata": {
        "id": "MKRTPaQIFCVI"
      },
      "source": [
        "##Seleções em Tuplas"
      ]
    },
    {
      "cell_type": "code",
      "metadata": {
        "id": "Qxh7SO3zE-zo"
      },
      "source": [
        "nomes_carros = tuple(['Jetta Variant', 'Passat', 'Crossfox', 'DS5'])\n",
        "nomes_carros"
      ],
      "execution_count": null,
      "outputs": []
    },
    {
      "cell_type": "code",
      "metadata": {
        "id": "fpulEk5rHGGQ"
      },
      "source": [
        "nomes_carros[0]"
      ],
      "execution_count": null,
      "outputs": []
    },
    {
      "cell_type": "code",
      "metadata": {
        "id": "U4cJKUHFIypU"
      },
      "source": [
        "nomes_carros[1]"
      ],
      "execution_count": null,
      "outputs": []
    },
    {
      "cell_type": "code",
      "metadata": {
        "id": "CvyKtlU7I03V"
      },
      "source": [
        "nomes_carros[-1]"
      ],
      "execution_count": null,
      "outputs": []
    },
    {
      "cell_type": "code",
      "metadata": {
        "id": "QtsQV3j9JDlW"
      },
      "source": [
        "nomes_carros[1:3]"
      ],
      "execution_count": null,
      "outputs": []
    },
    {
      "cell_type": "code",
      "metadata": {
        "id": "k19PAWcaI2hu"
      },
      "source": [
        "nomes_carros = ('Jetta Variant', 'Passat', 'Crossfox', 'DS5', ('Fusca', 'Gol', 'C4'))\n",
        "nomes_carros"
      ],
      "execution_count": null,
      "outputs": []
    },
    {
      "cell_type": "code",
      "metadata": {
        "id": "K3-3cvtlI7yo"
      },
      "source": [
        "nomes_carros[-1]"
      ],
      "execution_count": null,
      "outputs": []
    },
    {
      "cell_type": "code",
      "metadata": {
        "id": "ZW2UqCUvJMYv"
      },
      "source": [
        "nomes_carros[-1][1]"
      ],
      "execution_count": null,
      "outputs": []
    },
    {
      "cell_type": "markdown",
      "metadata": {
        "id": "dHyb75k_Jc1a"
      },
      "source": [
        "Exemplo"
      ]
    },
    {
      "cell_type": "code",
      "metadata": {
        "id": "fUOLM87LJPwx"
      },
      "source": [
        "carros = (\n",
        "    (\n",
        "        'Jetta Variant',\n",
        "        'Motor 4.0 Turbo',\n",
        "        2003,\n",
        "        False,\n",
        "        ('Rodas de liga', 'Travas elétricas', 'Piloto automático')\n",
        "    ),\n",
        "    (\n",
        "        'Passat',\n",
        "        'Motor Diesel',\n",
        "        1991,\n",
        "        True,\n",
        "        ('Central multimídia', 'Teto panorâmico', 'Freios ABS')\n",
        "    )\n",
        ")"
      ],
      "execution_count": null,
      "outputs": []
    },
    {
      "cell_type": "code",
      "metadata": {
        "id": "wSwJNbkVJS1z"
      },
      "source": [
        "carros[0][3]"
      ],
      "execution_count": null,
      "outputs": []
    },
    {
      "cell_type": "code",
      "metadata": {
        "id": "hJy1lv3SJhOK"
      },
      "source": [
        "carros[-1][-1][-1]"
      ],
      "execution_count": null,
      "outputs": []
    },
    {
      "cell_type": "code",
      "metadata": {
        "id": "PLYSu6JtJjtr"
      },
      "source": [
        "carros[0][-1][:2]"
      ],
      "execution_count": null,
      "outputs": []
    },
    {
      "cell_type": "markdown",
      "metadata": {
        "id": "Q3AByNjPJp43"
      },
      "source": [
        "##Iterando em Tuplas"
      ]
    },
    {
      "cell_type": "code",
      "metadata": {
        "id": "MroPP-0NJler"
      },
      "source": [
        "nomes_carros = tuple(['Jetta Variant', 'Passat', 'Crossfox', 'DS5'])\n",
        "nomes_carros"
      ],
      "execution_count": null,
      "outputs": []
    },
    {
      "cell_type": "code",
      "metadata": {
        "id": "y0zQalqdJ6E9"
      },
      "source": [
        "for item in nomes_carros:\n",
        "  print(item)"
      ],
      "execution_count": null,
      "outputs": []
    },
    {
      "cell_type": "markdown",
      "metadata": {
        "id": "Idd6goADKHoT"
      },
      "source": [
        "Desempacotamento em Tuplas"
      ]
    },
    {
      "cell_type": "code",
      "metadata": {
        "id": "ZygNHy_4KAjJ"
      },
      "source": [
        "carro_1, carro_2, carro_3, carro_4 = nomes_carros"
      ],
      "execution_count": null,
      "outputs": []
    },
    {
      "cell_type": "code",
      "metadata": {
        "id": "S4QoQl61KR6J"
      },
      "source": [
        "carro_1"
      ],
      "execution_count": null,
      "outputs": []
    },
    {
      "cell_type": "code",
      "metadata": {
        "id": "YwAnqGstKXHD"
      },
      "source": [
        "carro_2"
      ],
      "execution_count": null,
      "outputs": []
    },
    {
      "cell_type": "code",
      "metadata": {
        "id": "Mzh-rwvGKYDj"
      },
      "source": [
        "carro_3"
      ],
      "execution_count": null,
      "outputs": []
    },
    {
      "cell_type": "code",
      "metadata": {
        "id": "Xlq2bEr_KY8k"
      },
      "source": [
        "carro_4"
      ],
      "execution_count": null,
      "outputs": []
    },
    {
      "cell_type": "code",
      "metadata": {
        "id": "GBmPeQtRKa5q"
      },
      "source": [
        "_, A , _, B = nomes_carros"
      ],
      "execution_count": null,
      "outputs": []
    },
    {
      "cell_type": "code",
      "metadata": {
        "id": "jFerW9KFKrWd"
      },
      "source": [
        "A"
      ],
      "execution_count": null,
      "outputs": []
    },
    {
      "cell_type": "code",
      "metadata": {
        "id": "ippTsGFPKsRV"
      },
      "source": [
        "B"
      ],
      "execution_count": null,
      "outputs": []
    },
    {
      "cell_type": "code",
      "metadata": {
        "id": "ZUj9HALkKtYO"
      },
      "source": [
        "_, C , *_ = nomes_carros"
      ],
      "execution_count": null,
      "outputs": []
    },
    {
      "cell_type": "code",
      "metadata": {
        "id": "2VJICCX7K869"
      },
      "source": [
        "C"
      ],
      "execution_count": null,
      "outputs": []
    },
    {
      "cell_type": "markdown",
      "metadata": {
        "id": "8eQhN13xLBee"
      },
      "source": [
        "##Zip()"
      ]
    },
    {
      "cell_type": "code",
      "metadata": {
        "id": "rtPP7kRbK_mq"
      },
      "source": [
        "carros = ['Jetta Variant', 'Passat', 'Crossfox', 'DS5']\n",
        "carros"
      ],
      "execution_count": null,
      "outputs": []
    },
    {
      "cell_type": "code",
      "metadata": {
        "id": "D1DjIfgrK9fe"
      },
      "source": [
        "valores = [88078.64, 106161.94, 72832.16, 124549.07]\n",
        "valores"
      ],
      "execution_count": null,
      "outputs": []
    },
    {
      "cell_type": "code",
      "metadata": {
        "id": "oDKEBMqVLNOF"
      },
      "source": [
        "zip(carros,valores)"
      ],
      "execution_count": null,
      "outputs": []
    },
    {
      "cell_type": "code",
      "metadata": {
        "id": "u0MIzqzPLWBZ"
      },
      "source": [
        "list(zip(carros, valores))"
      ],
      "execution_count": null,
      "outputs": []
    },
    {
      "cell_type": "code",
      "metadata": {
        "id": "JnEqiiFCLaN7"
      },
      "source": [
        "for item in zip(carros, valores):\n",
        "  print(item)"
      ],
      "execution_count": null,
      "outputs": []
    },
    {
      "cell_type": "code",
      "metadata": {
        "id": "t64rwxGrLizH"
      },
      "source": [
        "for carro , valor in zip(carros, valores):\n",
        "  print(carro, valor)"
      ],
      "execution_count": null,
      "outputs": []
    },
    {
      "cell_type": "code",
      "metadata": {
        "id": "Feo33W3kLvcF"
      },
      "source": [
        "for carro , valor in zip(carros, valores):\n",
        "  if (valor > 100000):\n",
        "    print(carro)"
      ],
      "execution_count": null,
      "outputs": []
    },
    {
      "cell_type": "markdown",
      "metadata": {
        "id": "JiHBqfwwMkNw"
      },
      "source": [
        "##Criando Dicionários"
      ]
    },
    {
      "cell_type": "code",
      "metadata": {
        "id": "c3wVWabSL8Ab"
      },
      "source": [
        "carros = ['Jetta Variant', 'Passat', 'Crossfox']\n",
        "carros"
      ],
      "execution_count": null,
      "outputs": []
    },
    {
      "cell_type": "code",
      "metadata": {
        "id": "mVC6u0xjN-ER"
      },
      "source": [
        "valores = [88078.64, 106161.94, 72832.16]\n",
        "valores"
      ],
      "execution_count": null,
      "outputs": []
    },
    {
      "cell_type": "code",
      "metadata": {
        "id": "b68CiXbNOA4a"
      },
      "source": [
        "carros.index('Passat')"
      ],
      "execution_count": null,
      "outputs": []
    },
    {
      "cell_type": "code",
      "metadata": {
        "id": "Tgmr6OVSOQnC"
      },
      "source": [
        "valores[carros.index('Passat')]"
      ],
      "execution_count": null,
      "outputs": []
    },
    {
      "cell_type": "code",
      "metadata": {
        "id": "NZ7mEB70OXWF"
      },
      "source": [
        "dados = {'Jetta Variant': 88078.64, 'Passat': 106161.94, 'Crossfox': 72832.16}\n",
        "dados"
      ],
      "execution_count": null,
      "outputs": []
    },
    {
      "cell_type": "code",
      "metadata": {
        "id": "08CgdGmtOc3_"
      },
      "source": [
        "type(dados)"
      ],
      "execution_count": null,
      "outputs": []
    },
    {
      "cell_type": "markdown",
      "metadata": {
        "id": "cDxmZDM6OkkX"
      },
      "source": [
        "Criando Dicionários com .Zip()"
      ]
    },
    {
      "cell_type": "code",
      "metadata": {
        "id": "oQjs0xjuOjOC"
      },
      "source": [
        "list(zip(carros, valores))"
      ],
      "execution_count": null,
      "outputs": []
    },
    {
      "cell_type": "code",
      "metadata": {
        "id": "ApJXKW4pOtyP"
      },
      "source": [
        "dados = dict((zip(carros, valores)))\n",
        "dados"
      ],
      "execution_count": null,
      "outputs": []
    },
    {
      "cell_type": "code",
      "metadata": {
        "id": "tlN8f6UkO1Kr"
      },
      "source": [
        "type(dados)"
      ],
      "execution_count": null,
      "outputs": []
    },
    {
      "cell_type": "code",
      "metadata": {
        "id": "qhG-X7fnO4Z8"
      },
      "source": [
        ""
      ],
      "execution_count": null,
      "outputs": []
    },
    {
      "cell_type": "markdown",
      "metadata": {
        "id": "jQWW_M3sQdL3"
      },
      "source": [
        "##Operações com Dicionários"
      ]
    },
    {
      "cell_type": "code",
      "metadata": {
        "id": "Z0alG1usQhNV"
      },
      "source": [
        "dados = {'Jetta Variant': 88078.64, 'Passat': 106161.94, 'Crossfox': 72832.16}\n",
        "dados"
      ],
      "execution_count": null,
      "outputs": []
    },
    {
      "cell_type": "markdown",
      "metadata": {
        "id": "jZ4xyp045eV3"
      },
      "source": [
        "dict[key]"
      ]
    },
    {
      "cell_type": "code",
      "metadata": {
        "id": "-ZMsN_XP5gok"
      },
      "source": [
        "dados['Passat']"
      ],
      "execution_count": null,
      "outputs": []
    },
    {
      "cell_type": "markdown",
      "metadata": {
        "id": "AhapcB6d5oMt"
      },
      "source": [
        "key in dict"
      ]
    },
    {
      "cell_type": "code",
      "metadata": {
        "id": "l-CqZUXV5qBj"
      },
      "source": [
        "'Passat' in dados"
      ],
      "execution_count": null,
      "outputs": []
    },
    {
      "cell_type": "code",
      "metadata": {
        "id": "BBYubMV45vGK"
      },
      "source": [
        "'Fusca' in dados"
      ],
      "execution_count": null,
      "outputs": []
    },
    {
      "cell_type": "code",
      "metadata": {
        "id": "dClwgl8v5zcC"
      },
      "source": [
        "'Fusca' not in dados"
      ],
      "execution_count": null,
      "outputs": []
    },
    {
      "cell_type": "markdown",
      "metadata": {
        "id": "-E3YzfO65554"
      },
      "source": [
        "len(dict)"
      ]
    },
    {
      "cell_type": "code",
      "metadata": {
        "id": "oEYyEoX957PT"
      },
      "source": [
        "len(dados)"
      ],
      "execution_count": null,
      "outputs": []
    },
    {
      "cell_type": "markdown",
      "metadata": {
        "id": "4pYcKdI26DTT"
      },
      "source": [
        "dict[key] = value"
      ]
    },
    {
      "cell_type": "code",
      "metadata": {
        "id": "oYG1z7_P58zr"
      },
      "source": [
        "dados['DS5'] = 124549.07"
      ],
      "execution_count": null,
      "outputs": []
    },
    {
      "cell_type": "code",
      "metadata": {
        "id": "VXnC71bc6Tj-"
      },
      "source": [
        "dados"
      ],
      "execution_count": null,
      "outputs": []
    },
    {
      "cell_type": "markdown",
      "metadata": {
        "id": "7vP7_7ee6Yih"
      },
      "source": [
        "del dict[key]"
      ]
    },
    {
      "cell_type": "code",
      "metadata": {
        "id": "cwzIcrI-6de3"
      },
      "source": [
        "del dados['DS5']"
      ],
      "execution_count": null,
      "outputs": []
    },
    {
      "cell_type": "code",
      "metadata": {
        "id": "YGK9rvaP6gk1"
      },
      "source": [
        "dados"
      ],
      "execution_count": null,
      "outputs": []
    },
    {
      "cell_type": "markdown",
      "metadata": {
        "id": "k_wHvrbw7fT7"
      },
      "source": [
        "##Métodos com Dicionário"
      ]
    },
    {
      "cell_type": "markdown",
      "metadata": {
        "id": "uBOgzg0V7t2q"
      },
      "source": [
        "dict.update()"
      ]
    },
    {
      "cell_type": "code",
      "metadata": {
        "id": "cDKbve-67jXR"
      },
      "source": [
        "dados.update({'DS5': 124549.07})"
      ],
      "execution_count": null,
      "outputs": []
    },
    {
      "cell_type": "code",
      "metadata": {
        "id": "KPfMsBsQ8G1M"
      },
      "source": [
        "dados"
      ],
      "execution_count": null,
      "outputs": []
    },
    {
      "cell_type": "code",
      "metadata": {
        "id": "0PpsKG3t8TxZ"
      },
      "source": [
        "dados.update({'Passat': 106161.97, 'Fusca': 150000})"
      ],
      "execution_count": null,
      "outputs": []
    },
    {
      "cell_type": "code",
      "metadata": {
        "id": "1UjHCOxw8eFI"
      },
      "source": [
        "dados"
      ],
      "execution_count": null,
      "outputs": []
    },
    {
      "cell_type": "markdown",
      "metadata": {
        "id": "NZUL5VOv8po6"
      },
      "source": [
        "dict.copy()"
      ]
    },
    {
      "cell_type": "code",
      "metadata": {
        "id": "4-Kls-8s8rXW"
      },
      "source": [
        "dadosCopy = dados.copy()"
      ],
      "execution_count": null,
      "outputs": []
    },
    {
      "cell_type": "code",
      "metadata": {
        "id": "cWyRsH1l8yhK"
      },
      "source": [
        "dadosCopy"
      ],
      "execution_count": null,
      "outputs": []
    },
    {
      "cell_type": "code",
      "metadata": {
        "id": "cOc8tgp68z3i"
      },
      "source": [
        "del dadosCopy['Fusca']\n",
        "dadosCopy"
      ],
      "execution_count": null,
      "outputs": []
    },
    {
      "cell_type": "code",
      "metadata": {
        "id": "wa_GOamk88V-"
      },
      "source": [
        "dados"
      ],
      "execution_count": null,
      "outputs": []
    },
    {
      "cell_type": "code",
      "metadata": {
        "id": "w_fwl-1j9JLG"
      },
      "source": [
        "dadosCopy.pop('Passat')"
      ],
      "execution_count": null,
      "outputs": []
    },
    {
      "cell_type": "code",
      "metadata": {
        "id": "oTEiPYkI9Qxd"
      },
      "source": [
        "dadosCopy"
      ],
      "execution_count": null,
      "outputs": []
    },
    {
      "cell_type": "code",
      "metadata": {
        "id": "ZCZl0ML_9cTe"
      },
      "source": [
        "dadosCopy.pop('Passat','Chave não Encontrada')\n",
        "#Caso não tenha o .pop retorna Chave não Encontrada"
      ],
      "execution_count": null,
      "outputs": []
    },
    {
      "cell_type": "code",
      "metadata": {
        "id": "MWDXs_0193cR"
      },
      "source": [
        "dadosCopy.pop('DS5', 'Chave não Encontrada')"
      ],
      "execution_count": null,
      "outputs": []
    },
    {
      "cell_type": "code",
      "metadata": {
        "id": "dsZpA2-S-Cpb"
      },
      "source": [
        "dadosCopy"
      ],
      "execution_count": null,
      "outputs": []
    },
    {
      "cell_type": "markdown",
      "metadata": {
        "id": "0paS1pFJ-GUI"
      },
      "source": [
        "dict.clear()"
      ]
    },
    {
      "cell_type": "code",
      "metadata": {
        "id": "kPlxK0mS-NeY"
      },
      "source": [
        "dadosCopy.clear()"
      ],
      "execution_count": null,
      "outputs": []
    },
    {
      "cell_type": "code",
      "metadata": {
        "id": "H7gPrwuJ-UTA"
      },
      "source": [
        "dadosCopy"
      ],
      "execution_count": null,
      "outputs": []
    },
    {
      "cell_type": "markdown",
      "metadata": {
        "id": "qk0RDPKwDrP8"
      },
      "source": [
        "## Iterando em Dicionários"
      ]
    },
    {
      "cell_type": "code",
      "metadata": {
        "id": "x7g9KRbADulg"
      },
      "source": [
        "dados = {'Crossfox': 72832.16, 'DS5': 124549.07,  'Fusca': 150000,  'Jetta Variant': 88078.64,  'Passat': 106161.95}\n",
        "dados"
      ],
      "execution_count": null,
      "outputs": []
    },
    {
      "cell_type": "markdown",
      "metadata": {
        "id": "x97FD4PzELXs"
      },
      "source": [
        "dict.keys()"
      ]
    },
    {
      "cell_type": "code",
      "metadata": {
        "id": "YTf39FSmENsB"
      },
      "source": [
        "dados.keys()"
      ],
      "execution_count": null,
      "outputs": []
    },
    {
      "cell_type": "code",
      "metadata": {
        "id": "88TpkUHTEYQh"
      },
      "source": [
        "for key in dados.keys():\n",
        "  print(dados[key])"
      ],
      "execution_count": null,
      "outputs": []
    },
    {
      "cell_type": "markdown",
      "metadata": {
        "id": "rjdShwo1HTIk"
      },
      "source": [
        "dict.values()"
      ]
    },
    {
      "cell_type": "code",
      "metadata": {
        "id": "HRBxX7dDHVJ0"
      },
      "source": [
        "dados.values()"
      ],
      "execution_count": null,
      "outputs": []
    },
    {
      "cell_type": "markdown",
      "metadata": {
        "id": "ioN15AF2Hc_t"
      },
      "source": [
        "dict.items()"
      ]
    },
    {
      "cell_type": "code",
      "metadata": {
        "id": "JwkVd9dsHhDF"
      },
      "source": [
        "dados.items()"
      ],
      "execution_count": null,
      "outputs": []
    },
    {
      "cell_type": "code",
      "metadata": {
        "id": "gnHEK3FZHqmw"
      },
      "source": [
        "for item in dados.items():\n",
        "  print(item)"
      ],
      "execution_count": null,
      "outputs": []
    },
    {
      "cell_type": "code",
      "metadata": {
        "id": "ueEq1vt7IOJX"
      },
      "source": [
        "for key, value in dados.items():\n",
        "  print(key,value)"
      ],
      "execution_count": null,
      "outputs": []
    },
    {
      "cell_type": "code",
      "metadata": {
        "id": "h3eV2aMsIoGt"
      },
      "source": [
        "for key, value in dados.items():\n",
        "  if (value > 100000):\n",
        "    print(key)"
      ],
      "execution_count": null,
      "outputs": []
    },
    {
      "cell_type": "markdown",
      "metadata": {
        "id": "eqkd94ckeEu0"
      },
      "source": [
        "##Funções"
      ]
    },
    {
      "cell_type": "markdown",
      "metadata": {
        "id": "CQ_7pzAle-cy"
      },
      "source": [
        "Built-in function"
      ]
    },
    {
      "cell_type": "code",
      "metadata": {
        "id": "jKFN5kiJeIsY"
      },
      "source": [
        "dados = {'Jetta Variant': 88078.64, 'Passat': 106161.94, 'Crossfox': 72832.16}\n",
        "dados"
      ],
      "execution_count": null,
      "outputs": []
    },
    {
      "cell_type": "code",
      "metadata": {
        "id": "hxn_Johjitsn"
      },
      "source": [
        "valores = []\n",
        "\n",
        "for valor in dados.values():\n",
        "  valores.append(valor)\n",
        "valores"
      ],
      "execution_count": null,
      "outputs": []
    },
    {
      "cell_type": "code",
      "metadata": {
        "id": "LHmOE5jOi2Zz"
      },
      "source": [
        "soma = 0\n",
        "\n",
        "for valor in dados.values():\n",
        "  soma += valor\n",
        "soma"
      ],
      "execution_count": null,
      "outputs": []
    },
    {
      "cell_type": "code",
      "metadata": {
        "id": "glHXqZkxjNIj"
      },
      "source": [
        "list(dados.values())"
      ],
      "execution_count": null,
      "outputs": []
    },
    {
      "cell_type": "code",
      "metadata": {
        "id": "-9qXGmGbjT4B"
      },
      "source": [
        "sum(dados.values())"
      ],
      "execution_count": null,
      "outputs": []
    },
    {
      "cell_type": "code",
      "metadata": {
        "id": "Nu0gHMhzuYXy"
      },
      "source": [
        "help()#função de ajuda"
      ],
      "execution_count": null,
      "outputs": []
    },
    {
      "cell_type": "code",
      "metadata": {
        "id": "eYiv9b5Xus0R"
      },
      "source": [
        "print? # também função de ajuda"
      ],
      "execution_count": null,
      "outputs": []
    },
    {
      "cell_type": "markdown",
      "source": [
        "Funções sem parametros "
      ],
      "metadata": {
        "id": "QIJqKlwiI5KZ"
      }
    },
    {
      "cell_type": "code",
      "source": [
        "def media():\n",
        "  valor = (1+2+3)/3\n",
        "  print(valor)"
      ],
      "metadata": {
        "id": "Q7kdFO8bI__4"
      },
      "execution_count": null,
      "outputs": []
    },
    {
      "cell_type": "code",
      "source": [
        "media()"
      ],
      "metadata": {
        "id": "IHweW1Z1JfeS"
      },
      "execution_count": null,
      "outputs": []
    },
    {
      "cell_type": "markdown",
      "source": [
        "Funçoes com Parametros"
      ],
      "metadata": {
        "id": "0PQdNIf_JnNG"
      }
    },
    {
      "cell_type": "code",
      "source": [
        "def media(num_1, num_2, num_3):\n",
        "  valor = (num_1 + num_2 + num_3)/3\n",
        "  print(valor)\n"
      ],
      "metadata": {
        "id": "cg6YKqHnJpWQ"
      },
      "execution_count": null,
      "outputs": []
    },
    {
      "cell_type": "code",
      "source": [
        "media(1,2,3)"
      ],
      "metadata": {
        "id": "Vq9uCcA7KWZT"
      },
      "execution_count": null,
      "outputs": []
    },
    {
      "cell_type": "code",
      "source": [
        "media(10,20,30)"
      ],
      "metadata": {
        "id": "IwLW1Qy1KgBr"
      },
      "execution_count": null,
      "outputs": []
    },
    {
      "cell_type": "code",
      "source": [
        "def media(lista):\n",
        "  valor = sum(lista) / len(lista)\n",
        "  print(valor)"
      ],
      "metadata": {
        "id": "AYUNQyQbKtWD"
      },
      "execution_count": null,
      "outputs": []
    },
    {
      "cell_type": "code",
      "source": [
        "media([1,2,3,4,5,6,7,8,9,10])"
      ],
      "metadata": {
        "id": "UA5Agq67K_Q9"
      },
      "execution_count": null,
      "outputs": []
    },
    {
      "cell_type": "markdown",
      "source": [
        "Kilometragem média anual de cada veículo"
      ],
      "metadata": {
        "id": "EiyEBF6RLmjS"
      }
    },
    {
      "cell_type": "code",
      "source": [
        "dados = {\n",
        "    'Crossfox': {'km': 35000, 'ano': 2005}, \n",
        "    'DS5': {'km': 17000, 'ano': 2015}, \n",
        "    'Fusca': {'km': 130000, 'ano': 1979}, \n",
        "    'Jetta': {'km': 56000, 'ano': 2011}, \n",
        "    'Passat': {'km': 62000, 'ano': 1999}\n",
        "}\n"
      ],
      "metadata": {
        "id": "Gi_Z_KclLrfV"
      },
      "execution_count": null,
      "outputs": []
    },
    {
      "cell_type": "code",
      "source": [
        "def km_media(dataset,ano_atual):\n",
        "  for item in dataset.items():\n",
        "    resultado = item[1]['km']/ (ano_atual - item[1]['ano'])\n",
        "    print(resultado)"
      ],
      "metadata": {
        "id": "VXCz9rE1Lx42"
      },
      "execution_count": null,
      "outputs": []
    },
    {
      "cell_type": "code",
      "source": [
        "km_media(dados,2021)"
      ],
      "metadata": {
        "id": "2NenQC3dMrSi"
      },
      "execution_count": null,
      "outputs": []
    },
    {
      "cell_type": "markdown",
      "source": [
        "Funçoes que retornam o valor"
      ],
      "metadata": {
        "id": "2BEaYUyhfdcE"
      }
    },
    {
      "cell_type": "code",
      "source": [
        "def km_media(dataset,ano_atual):\n",
        "  for item in dataset.items():\n",
        "    valor = item[1]['km']/ (ano_atual - item[1]['ano'])\n",
        "    return valor\n"
      ],
      "metadata": {
        "id": "tlwAQGMKff8y"
      },
      "execution_count": null,
      "outputs": []
    },
    {
      "cell_type": "code",
      "source": [
        ""
      ],
      "metadata": {
        "id": "QfwOKgGgfxCC"
      },
      "execution_count": null,
      "outputs": []
    },
    {
      "cell_type": "markdown",
      "source": [
        "##Pandas Básico"
      ],
      "metadata": {
        "id": "BgXtE73Kaz_1"
      }
    },
    {
      "cell_type": "code",
      "source": [
        "import pandas as pd"
      ],
      "metadata": {
        "id": "Bp68f4lma9UY"
      },
      "execution_count": null,
      "outputs": []
    },
    {
      "cell_type": "markdown",
      "source": [
        "###Estrutura de Dados"
      ],
      "metadata": {
        "id": "2fv_vwSTcAzl"
      }
    },
    {
      "cell_type": "markdown",
      "source": [
        "####Criando uma Series a partir de uma Lista"
      ],
      "metadata": {
        "id": "hxlUZkOpcXRj"
      }
    },
    {
      "cell_type": "code",
      "source": [
        "carros = ['Jetta Variant', 'Passat', 'Crossfox']\n",
        "carros"
      ],
      "metadata": {
        "id": "0O8mFolocDUv"
      },
      "execution_count": null,
      "outputs": []
    },
    {
      "cell_type": "code",
      "source": [
        "pd.Series(carros)"
      ],
      "metadata": {
        "id": "lukJM_YqcNaD"
      },
      "execution_count": null,
      "outputs": []
    },
    {
      "cell_type": "markdown",
      "source": [
        "#### Criando uma DataFrame a partir de um dicionário"
      ],
      "metadata": {
        "id": "Zbva_h4BdFY0"
      }
    },
    {
      "cell_type": "code",
      "source": [
        "dados = [\n",
        "    {'Nome': 'Jetta Variant', 'Motor': 'Motor 4.0 Turbo', 'Ano': 2003, 'Quilometragem': 44410.0, 'Zero_km': False, 'Valor': 88078.64},\n",
        "    {'Nome': 'Passat', 'Motor': 'Motor Diesel', 'Ano': 1991, 'Quilometragem': 5712.0, 'Zero_km': False, 'Valor': 106161.94},\n",
        "    {'Nome': 'Crossfox', 'Motor': 'Motor Diesel V8', 'Ano': 1990, 'Quilometragem': 37123.0, 'Zero_km': False, 'Valor': 72832.16}\n",
        "]"
      ],
      "metadata": {
        "id": "GxgkJvuCc5RU"
      },
      "execution_count": null,
      "outputs": []
    },
    {
      "cell_type": "code",
      "source": [
        "dataset = pd.DataFrame(dados)\n",
        "dataset"
      ],
      "metadata": {
        "id": "yutwP_ySdZH6"
      },
      "execution_count": null,
      "outputs": []
    },
    {
      "cell_type": "markdown",
      "source": [
        "Outra Forma"
      ],
      "metadata": {
        "id": "1TWfkjyudy-L"
      }
    },
    {
      "cell_type": "code",
      "source": [
        "dados = {\n",
        "    'Nome': ['Jetta Variant', 'Passat', 'Crossfox'], \n",
        "    'Motor': ['Motor 4.0 Turbo', 'Motor Diesel', 'Motor Diesel V8'],\n",
        "    'Ano': [2003, 1991, 1990],\n",
        "    'Quilometragem': [44410.0, 5712.0, 37123.0],\n",
        "    'Zero_km': [False, False, False],\n",
        "    'Valor': [88078.64, 106161.94, 72832.16]\n",
        "}"
      ],
      "metadata": {
        "id": "cTTLiXp3d0f2"
      },
      "execution_count": null,
      "outputs": []
    },
    {
      "cell_type": "code",
      "source": [
        "dataset = pd.DataFrame(dados)\n",
        "dataset"
      ],
      "metadata": {
        "id": "ZyWuJ5PNd-J9"
      },
      "execution_count": null,
      "outputs": []
    },
    {
      "cell_type": "markdown",
      "source": [
        "#### Criando um DataFrame a partir de Dados Externos"
      ],
      "metadata": {
        "id": "Fvfz-bL8eGKT"
      }
    },
    {
      "cell_type": "code",
      "source": [
        "dataset = pd.read_csv('/content/db.csv',sep =';',index_col = 0)"
      ],
      "metadata": {
        "id": "zz0rs27KeLCQ"
      },
      "execution_count": null,
      "outputs": []
    },
    {
      "cell_type": "code",
      "source": [
        "dataset"
      ],
      "metadata": {
        "id": "uXHaa3sPetE3"
      },
      "execution_count": null,
      "outputs": []
    },
    {
      "cell_type": "markdown",
      "source": [
        "### Seleções com DataFrames"
      ],
      "metadata": {
        "id": "FKsFMGuchlsP"
      }
    },
    {
      "cell_type": "markdown",
      "source": [
        "####Selecionando Colunas"
      ],
      "metadata": {
        "id": "cUvGx2KOin1K"
      }
    },
    {
      "cell_type": "code",
      "source": [
        "dataset"
      ],
      "metadata": {
        "id": "ascu3PAZhqoQ"
      },
      "execution_count": null,
      "outputs": []
    },
    {
      "cell_type": "code",
      "source": [
        "dataset['Valor']"
      ],
      "metadata": {
        "id": "XcxgO_TEiyW2"
      },
      "execution_count": null,
      "outputs": []
    },
    {
      "cell_type": "code",
      "source": [
        "type(dataset['Valor'])"
      ],
      "metadata": {
        "id": "dVsFiohYjf2D"
      },
      "execution_count": null,
      "outputs": []
    },
    {
      "cell_type": "code",
      "source": [
        "dataset[['Valor']]"
      ],
      "metadata": {
        "id": "UySFZLMgjpX8"
      },
      "execution_count": null,
      "outputs": []
    },
    {
      "cell_type": "code",
      "source": [
        "type(dataset[['Valor']])"
      ],
      "metadata": {
        "id": "p8Ln65xojsYH"
      },
      "execution_count": null,
      "outputs": []
    },
    {
      "cell_type": "markdown",
      "source": [
        "####Selecionando Linhas"
      ],
      "metadata": {
        "id": "EzhEjJyJj3Ys"
      }
    },
    {
      "cell_type": "code",
      "source": [
        "dataset[0:4]"
      ],
      "metadata": {
        "id": "UFK7wrBAj6LO"
      },
      "execution_count": null,
      "outputs": []
    },
    {
      "cell_type": "markdown",
      "source": [
        "####.loc"
      ],
      "metadata": {
        "id": "Txat2DPU2nQL"
      }
    },
    {
      "cell_type": "code",
      "source": [
        "dataset.loc['Passat']"
      ],
      "metadata": {
        "id": "rIzg_y1L2rgU"
      },
      "execution_count": null,
      "outputs": []
    },
    {
      "cell_type": "code",
      "source": [
        "dataset.loc[['Passat','DS5']]"
      ],
      "metadata": {
        "id": "hfmbw5hB2-DL"
      },
      "execution_count": null,
      "outputs": []
    },
    {
      "cell_type": "code",
      "source": [
        "dataset.loc[['Passat','DS5'],['Motor','Valor']]"
      ],
      "metadata": {
        "id": "vSOdCVW_3M_j"
      },
      "execution_count": null,
      "outputs": []
    },
    {
      "cell_type": "code",
      "source": [
        "dataset.loc[:,['Motor','Valor']]"
      ],
      "metadata": {
        "id": "nEevAxSv3kPR"
      },
      "execution_count": null,
      "outputs": []
    },
    {
      "cell_type": "markdown",
      "source": [
        "#### .iloc"
      ],
      "metadata": {
        "id": "ipGhU6573tPT"
      }
    },
    {
      "cell_type": "code",
      "source": [
        "dataset.head(10)"
      ],
      "metadata": {
        "id": "7I-2108B4uAK"
      },
      "execution_count": null,
      "outputs": []
    },
    {
      "cell_type": "code",
      "source": [
        "dataset.iloc[1]"
      ],
      "metadata": {
        "id": "sf3-P0Oj3w8G"
      },
      "execution_count": null,
      "outputs": []
    },
    {
      "cell_type": "code",
      "source": [
        "dataset.iloc[[1]]"
      ],
      "metadata": {
        "id": "0w65zOm44jb6"
      },
      "execution_count": null,
      "outputs": []
    },
    {
      "cell_type": "code",
      "source": [
        "dataset.iloc[[1,5]]"
      ],
      "metadata": {
        "id": "0_Ii7xTX4z28"
      },
      "execution_count": null,
      "outputs": []
    },
    {
      "cell_type": "code",
      "source": [
        "dataset.iloc[0:7]"
      ],
      "metadata": {
        "id": "jjpNqdhL46uS"
      },
      "execution_count": null,
      "outputs": []
    },
    {
      "cell_type": "code",
      "source": [
        "dataset.iloc[0:7,[0,5,2]]"
      ],
      "metadata": {
        "id": "Jjz4YTGt5LzZ"
      },
      "execution_count": null,
      "outputs": []
    },
    {
      "cell_type": "code",
      "source": [
        "dataset.iloc[[1,22,47,91],[0,5,2]]"
      ],
      "metadata": {
        "id": "yKjjg6yV5nsN"
      },
      "execution_count": null,
      "outputs": []
    },
    {
      "cell_type": "code",
      "source": [
        "dataset.iloc[:,[0,5,2]]"
      ],
      "metadata": {
        "id": "NWP_TJNK5-ME"
      },
      "execution_count": null,
      "outputs": []
    },
    {
      "cell_type": "markdown",
      "source": [
        "###Queries com DataFrames"
      ],
      "metadata": {
        "id": "JZm81Dc06Hqd"
      }
    },
    {
      "cell_type": "code",
      "source": [
        "dataset.head(10)"
      ],
      "metadata": {
        "id": "h056FrmC6LgM"
      },
      "execution_count": null,
      "outputs": []
    },
    {
      "cell_type": "code",
      "source": [
        "dataset.Motor"
      ],
      "metadata": {
        "id": "m3prvzkN7g_E"
      },
      "execution_count": null,
      "outputs": []
    },
    {
      "cell_type": "code",
      "source": [
        "select = dataset.Motor == 'Motor Diesel'\n",
        "select"
      ],
      "metadata": {
        "id": "JDCGxePF7nOu"
      },
      "execution_count": null,
      "outputs": []
    },
    {
      "cell_type": "code",
      "source": [
        "type(select)"
      ],
      "metadata": {
        "id": "6er8Hlga75hN"
      },
      "execution_count": null,
      "outputs": []
    },
    {
      "cell_type": "markdown",
      "source": [
        "Quais carros tem Motor Diesel ?"
      ],
      "metadata": {
        "id": "I2NJe50H8OWV"
      }
    },
    {
      "cell_type": "code",
      "source": [
        "dataset[select]"
      ],
      "metadata": {
        "id": "yK2pygo-7-V4"
      },
      "execution_count": null,
      "outputs": []
    },
    {
      "cell_type": "markdown",
      "source": [
        "Quais carros são Motor a Diesel e Zero KM ?"
      ],
      "metadata": {
        "id": "zQUfVg9M8ZD8"
      }
    },
    {
      "cell_type": "code",
      "source": [
        "dataset[(dataset.Motor == 'Motor Diesel') & (dataset.Zero_km == True)]"
      ],
      "metadata": {
        "id": "axmt25IH8d0x"
      },
      "execution_count": null,
      "outputs": []
    },
    {
      "cell_type": "code",
      "source": [
        "(dataset.Motor == 'Motor Diesel') & (dataset.Zero_km == True)"
      ],
      "metadata": {
        "id": "FRt9lKis9Dp6"
      },
      "execution_count": null,
      "outputs": []
    },
    {
      "cell_type": "markdown",
      "source": [
        "#### Utilizando o Método Query"
      ],
      "metadata": {
        "id": "RipLLOhA9QWZ"
      }
    },
    {
      "cell_type": "markdown",
      "source": [
        "Quais carros tem Motor a Diesel ?"
      ],
      "metadata": {
        "id": "9CXMqsyt9-Mq"
      }
    },
    {
      "cell_type": "code",
      "source": [
        "dataset.query('Motor == \"Motor Diesel\"')"
      ],
      "metadata": {
        "id": "bC8hQaYM9WAL"
      },
      "execution_count": null,
      "outputs": []
    },
    {
      "cell_type": "markdown",
      "source": [
        "Quais carros tem Motor a Diesel e são Zero KM ?"
      ],
      "metadata": {
        "id": "tz_7oGCI-BWn"
      }
    },
    {
      "cell_type": "code",
      "source": [
        "dataset.query('Motor == \"Motor Diesel\"and Zero_km == True')"
      ],
      "metadata": {
        "id": "KbV4CsCQ9zhO"
      },
      "execution_count": null,
      "outputs": []
    },
    {
      "cell_type": "markdown",
      "source": [
        "### Iterando com DataFrames"
      ],
      "metadata": {
        "id": "zn7i-YV4B2hA"
      }
    },
    {
      "cell_type": "code",
      "source": [
        "dataset.head(10)"
      ],
      "metadata": {
        "id": "AL-HrYl9B6sz"
      },
      "execution_count": null,
      "outputs": []
    },
    {
      "cell_type": "code",
      "source": [
        "for item in dataset:\n",
        "  print(item)"
      ],
      "metadata": {
        "id": "fuQFy92BKBv_"
      },
      "execution_count": null,
      "outputs": []
    },
    {
      "cell_type": "code",
      "source": [
        "for index, row in dataset.iterrows():\n",
        "  if (2019 - row['Ano'] != 0):\n",
        "    dataset.loc[index, 'km_media'] = row['Quilometragem'] / (2019 - row['Ano'])\n",
        "\n",
        "  else:\n",
        "    dataset.loc[index, 'km_media'] = 0.00\n",
        "\n",
        "dataset"
      ],
      "metadata": {
        "id": "0uSxeZxBKIub"
      },
      "execution_count": null,
      "outputs": []
    },
    {
      "cell_type": "code",
      "source": [
        ""
      ],
      "metadata": {
        "id": "jtnFYo-5PK7v"
      },
      "execution_count": null,
      "outputs": []
    },
    {
      "cell_type": "markdown",
      "source": [
        "### Tratamento de Dados"
      ],
      "metadata": {
        "id": "OivzoxvXSEb1"
      }
    },
    {
      "cell_type": "code",
      "source": [
        "dataset.head(10)"
      ],
      "metadata": {
        "id": "BLKaNNm0SHRX"
      },
      "execution_count": null,
      "outputs": []
    },
    {
      "cell_type": "code",
      "source": [
        "dataset.info()"
      ],
      "metadata": {
        "id": "E63yne1NUAdq"
      },
      "execution_count": null,
      "outputs": []
    },
    {
      "cell_type": "code",
      "source": [
        "#mostra em booleana as variaveis NaN\n",
        "dataset.Quilometragem.isna()\n"
      ],
      "metadata": {
        "id": "PP92J3TxU5gG"
      },
      "execution_count": null,
      "outputs": []
    },
    {
      "cell_type": "code",
      "source": [
        "dataset[dataset.Quilometragem.isna()]"
      ],
      "metadata": {
        "id": "2w-k7x7JVPLw"
      },
      "execution_count": null,
      "outputs": []
    },
    {
      "cell_type": "code",
      "source": [
        "#Transforma todos os valores NaN em 0\n",
        "dataset.fillna(0, inplace = True)"
      ],
      "metadata": {
        "id": "i4vNQww1WZ74"
      },
      "execution_count": null,
      "outputs": []
    },
    {
      "cell_type": "code",
      "source": [
        "dataset"
      ],
      "metadata": {
        "id": "9IaLhyV0Wg4Q"
      },
      "execution_count": null,
      "outputs": []
    },
    {
      "cell_type": "code",
      "source": [
        "dataset.query('Zero_km == True')"
      ],
      "metadata": {
        "id": "SH_Psl98Wwxn"
      },
      "execution_count": null,
      "outputs": []
    },
    {
      "cell_type": "code",
      "source": [
        "dataset = pd.read_csv('/content/db.csv',sep =';')\n",
        "dataset"
      ],
      "metadata": {
        "id": "TRJ-FRyfXLu0"
      },
      "execution_count": null,
      "outputs": []
    },
    {
      "cell_type": "code",
      "source": [
        "#Elimina todo o parametro NaN de um subset\n",
        "dataset.dropna(subset= ['Quilometragem'], inplace = True)\n",
        "dataset"
      ],
      "metadata": {
        "id": "RbuuQZ1cXYMa"
      },
      "execution_count": null,
      "outputs": []
    },
    {
      "cell_type": "markdown",
      "source": [
        "#Python Pandas: Tratando e Analisando Dados"
      ],
      "metadata": {
        "id": "aWGlcMBH1MRU"
      }
    },
    {
      "cell_type": "markdown",
      "source": [
        "## Relatório de Análise I"
      ],
      "metadata": {
        "id": "q4RTsoYaBIvH"
      }
    },
    {
      "cell_type": "markdown",
      "source": [
        "Importando os Dados"
      ],
      "metadata": {
        "id": "kcwvtxn3BRFs"
      }
    },
    {
      "cell_type": "code",
      "source": [
        "import pandas as pd\n",
        "\n",
        "dados = pd.read_csv('/content/aluguel.csv',sep = ';')\n",
        "dados"
      ],
      "metadata": {
        "id": "uuGu4v_21UUD",
        "colab": {
          "base_uri": "https://localhost:8080/",
          "height": 417
        },
        "outputId": "424b4cf8-91f2-4bbf-aec2-1fcd04e014c8"
      },
      "execution_count": null,
      "outputs": [
        {
          "output_type": "error",
          "ename": "FileNotFoundError",
          "evalue": "ignored",
          "traceback": [
            "\u001b[0;31m---------------------------------------------------------------------------\u001b[0m",
            "\u001b[0;31mFileNotFoundError\u001b[0m                         Traceback (most recent call last)",
            "\u001b[0;32m<ipython-input-9-838b82205679>\u001b[0m in \u001b[0;36m<module>\u001b[0;34m()\u001b[0m\n\u001b[1;32m      1\u001b[0m \u001b[0;32mimport\u001b[0m \u001b[0mpandas\u001b[0m \u001b[0;32mas\u001b[0m \u001b[0mpd\u001b[0m\u001b[0;34m\u001b[0m\u001b[0;34m\u001b[0m\u001b[0m\n\u001b[1;32m      2\u001b[0m \u001b[0;34m\u001b[0m\u001b[0m\n\u001b[0;32m----> 3\u001b[0;31m \u001b[0mdados\u001b[0m \u001b[0;34m=\u001b[0m \u001b[0mpd\u001b[0m\u001b[0;34m.\u001b[0m\u001b[0mread_csv\u001b[0m\u001b[0;34m(\u001b[0m\u001b[0;34m'/content/aluguel.csv'\u001b[0m\u001b[0;34m,\u001b[0m\u001b[0msep\u001b[0m \u001b[0;34m=\u001b[0m \u001b[0;34m';'\u001b[0m\u001b[0;34m)\u001b[0m\u001b[0;34m\u001b[0m\u001b[0;34m\u001b[0m\u001b[0m\n\u001b[0m\u001b[1;32m      4\u001b[0m \u001b[0mdados\u001b[0m\u001b[0;34m\u001b[0m\u001b[0;34m\u001b[0m\u001b[0m\n",
            "\u001b[0;32m/usr/local/lib/python3.7/dist-packages/pandas/util/_decorators.py\u001b[0m in \u001b[0;36mwrapper\u001b[0;34m(*args, **kwargs)\u001b[0m\n\u001b[1;32m    309\u001b[0m                     \u001b[0mstacklevel\u001b[0m\u001b[0;34m=\u001b[0m\u001b[0mstacklevel\u001b[0m\u001b[0;34m,\u001b[0m\u001b[0;34m\u001b[0m\u001b[0;34m\u001b[0m\u001b[0m\n\u001b[1;32m    310\u001b[0m                 )\n\u001b[0;32m--> 311\u001b[0;31m             \u001b[0;32mreturn\u001b[0m \u001b[0mfunc\u001b[0m\u001b[0;34m(\u001b[0m\u001b[0;34m*\u001b[0m\u001b[0margs\u001b[0m\u001b[0;34m,\u001b[0m \u001b[0;34m**\u001b[0m\u001b[0mkwargs\u001b[0m\u001b[0;34m)\u001b[0m\u001b[0;34m\u001b[0m\u001b[0;34m\u001b[0m\u001b[0m\n\u001b[0m\u001b[1;32m    312\u001b[0m \u001b[0;34m\u001b[0m\u001b[0m\n\u001b[1;32m    313\u001b[0m         \u001b[0;32mreturn\u001b[0m \u001b[0mwrapper\u001b[0m\u001b[0;34m\u001b[0m\u001b[0;34m\u001b[0m\u001b[0m\n",
            "\u001b[0;32m/usr/local/lib/python3.7/dist-packages/pandas/io/parsers/readers.py\u001b[0m in \u001b[0;36mread_csv\u001b[0;34m(filepath_or_buffer, sep, delimiter, header, names, index_col, usecols, squeeze, prefix, mangle_dupe_cols, dtype, engine, converters, true_values, false_values, skipinitialspace, skiprows, skipfooter, nrows, na_values, keep_default_na, na_filter, verbose, skip_blank_lines, parse_dates, infer_datetime_format, keep_date_col, date_parser, dayfirst, cache_dates, iterator, chunksize, compression, thousands, decimal, lineterminator, quotechar, quoting, doublequote, escapechar, comment, encoding, encoding_errors, dialect, error_bad_lines, warn_bad_lines, on_bad_lines, delim_whitespace, low_memory, memory_map, float_precision, storage_options)\u001b[0m\n\u001b[1;32m    584\u001b[0m     \u001b[0mkwds\u001b[0m\u001b[0;34m.\u001b[0m\u001b[0mupdate\u001b[0m\u001b[0;34m(\u001b[0m\u001b[0mkwds_defaults\u001b[0m\u001b[0;34m)\u001b[0m\u001b[0;34m\u001b[0m\u001b[0;34m\u001b[0m\u001b[0m\n\u001b[1;32m    585\u001b[0m \u001b[0;34m\u001b[0m\u001b[0m\n\u001b[0;32m--> 586\u001b[0;31m     \u001b[0;32mreturn\u001b[0m \u001b[0m_read\u001b[0m\u001b[0;34m(\u001b[0m\u001b[0mfilepath_or_buffer\u001b[0m\u001b[0;34m,\u001b[0m \u001b[0mkwds\u001b[0m\u001b[0;34m)\u001b[0m\u001b[0;34m\u001b[0m\u001b[0;34m\u001b[0m\u001b[0m\n\u001b[0m\u001b[1;32m    587\u001b[0m \u001b[0;34m\u001b[0m\u001b[0m\n\u001b[1;32m    588\u001b[0m \u001b[0;34m\u001b[0m\u001b[0m\n",
            "\u001b[0;32m/usr/local/lib/python3.7/dist-packages/pandas/io/parsers/readers.py\u001b[0m in \u001b[0;36m_read\u001b[0;34m(filepath_or_buffer, kwds)\u001b[0m\n\u001b[1;32m    480\u001b[0m \u001b[0;34m\u001b[0m\u001b[0m\n\u001b[1;32m    481\u001b[0m     \u001b[0;31m# Create the parser.\u001b[0m\u001b[0;34m\u001b[0m\u001b[0;34m\u001b[0m\u001b[0;34m\u001b[0m\u001b[0m\n\u001b[0;32m--> 482\u001b[0;31m     \u001b[0mparser\u001b[0m \u001b[0;34m=\u001b[0m \u001b[0mTextFileReader\u001b[0m\u001b[0;34m(\u001b[0m\u001b[0mfilepath_or_buffer\u001b[0m\u001b[0;34m,\u001b[0m \u001b[0;34m**\u001b[0m\u001b[0mkwds\u001b[0m\u001b[0;34m)\u001b[0m\u001b[0;34m\u001b[0m\u001b[0;34m\u001b[0m\u001b[0m\n\u001b[0m\u001b[1;32m    483\u001b[0m \u001b[0;34m\u001b[0m\u001b[0m\n\u001b[1;32m    484\u001b[0m     \u001b[0;32mif\u001b[0m \u001b[0mchunksize\u001b[0m \u001b[0;32mor\u001b[0m \u001b[0miterator\u001b[0m\u001b[0;34m:\u001b[0m\u001b[0;34m\u001b[0m\u001b[0;34m\u001b[0m\u001b[0m\n",
            "\u001b[0;32m/usr/local/lib/python3.7/dist-packages/pandas/io/parsers/readers.py\u001b[0m in \u001b[0;36m__init__\u001b[0;34m(self, f, engine, **kwds)\u001b[0m\n\u001b[1;32m    809\u001b[0m             \u001b[0mself\u001b[0m\u001b[0;34m.\u001b[0m\u001b[0moptions\u001b[0m\u001b[0;34m[\u001b[0m\u001b[0;34m\"has_index_names\"\u001b[0m\u001b[0;34m]\u001b[0m \u001b[0;34m=\u001b[0m \u001b[0mkwds\u001b[0m\u001b[0;34m[\u001b[0m\u001b[0;34m\"has_index_names\"\u001b[0m\u001b[0;34m]\u001b[0m\u001b[0;34m\u001b[0m\u001b[0;34m\u001b[0m\u001b[0m\n\u001b[1;32m    810\u001b[0m \u001b[0;34m\u001b[0m\u001b[0m\n\u001b[0;32m--> 811\u001b[0;31m         \u001b[0mself\u001b[0m\u001b[0;34m.\u001b[0m\u001b[0m_engine\u001b[0m \u001b[0;34m=\u001b[0m \u001b[0mself\u001b[0m\u001b[0;34m.\u001b[0m\u001b[0m_make_engine\u001b[0m\u001b[0;34m(\u001b[0m\u001b[0mself\u001b[0m\u001b[0;34m.\u001b[0m\u001b[0mengine\u001b[0m\u001b[0;34m)\u001b[0m\u001b[0;34m\u001b[0m\u001b[0;34m\u001b[0m\u001b[0m\n\u001b[0m\u001b[1;32m    812\u001b[0m \u001b[0;34m\u001b[0m\u001b[0m\n\u001b[1;32m    813\u001b[0m     \u001b[0;32mdef\u001b[0m \u001b[0mclose\u001b[0m\u001b[0;34m(\u001b[0m\u001b[0mself\u001b[0m\u001b[0;34m)\u001b[0m\u001b[0;34m:\u001b[0m\u001b[0;34m\u001b[0m\u001b[0;34m\u001b[0m\u001b[0m\n",
            "\u001b[0;32m/usr/local/lib/python3.7/dist-packages/pandas/io/parsers/readers.py\u001b[0m in \u001b[0;36m_make_engine\u001b[0;34m(self, engine)\u001b[0m\n\u001b[1;32m   1038\u001b[0m             )\n\u001b[1;32m   1039\u001b[0m         \u001b[0;31m# error: Too many arguments for \"ParserBase\"\u001b[0m\u001b[0;34m\u001b[0m\u001b[0;34m\u001b[0m\u001b[0;34m\u001b[0m\u001b[0m\n\u001b[0;32m-> 1040\u001b[0;31m         \u001b[0;32mreturn\u001b[0m \u001b[0mmapping\u001b[0m\u001b[0;34m[\u001b[0m\u001b[0mengine\u001b[0m\u001b[0;34m]\u001b[0m\u001b[0;34m(\u001b[0m\u001b[0mself\u001b[0m\u001b[0;34m.\u001b[0m\u001b[0mf\u001b[0m\u001b[0;34m,\u001b[0m \u001b[0;34m**\u001b[0m\u001b[0mself\u001b[0m\u001b[0;34m.\u001b[0m\u001b[0moptions\u001b[0m\u001b[0;34m)\u001b[0m  \u001b[0;31m# type: ignore[call-arg]\u001b[0m\u001b[0;34m\u001b[0m\u001b[0;34m\u001b[0m\u001b[0m\n\u001b[0m\u001b[1;32m   1041\u001b[0m \u001b[0;34m\u001b[0m\u001b[0m\n\u001b[1;32m   1042\u001b[0m     \u001b[0;32mdef\u001b[0m \u001b[0m_failover_to_python\u001b[0m\u001b[0;34m(\u001b[0m\u001b[0mself\u001b[0m\u001b[0;34m)\u001b[0m\u001b[0;34m:\u001b[0m\u001b[0;34m\u001b[0m\u001b[0;34m\u001b[0m\u001b[0m\n",
            "\u001b[0;32m/usr/local/lib/python3.7/dist-packages/pandas/io/parsers/c_parser_wrapper.py\u001b[0m in \u001b[0;36m__init__\u001b[0;34m(self, src, **kwds)\u001b[0m\n\u001b[1;32m     49\u001b[0m \u001b[0;34m\u001b[0m\u001b[0m\n\u001b[1;32m     50\u001b[0m         \u001b[0;31m# open handles\u001b[0m\u001b[0;34m\u001b[0m\u001b[0;34m\u001b[0m\u001b[0;34m\u001b[0m\u001b[0m\n\u001b[0;32m---> 51\u001b[0;31m         \u001b[0mself\u001b[0m\u001b[0;34m.\u001b[0m\u001b[0m_open_handles\u001b[0m\u001b[0;34m(\u001b[0m\u001b[0msrc\u001b[0m\u001b[0;34m,\u001b[0m \u001b[0mkwds\u001b[0m\u001b[0;34m)\u001b[0m\u001b[0;34m\u001b[0m\u001b[0;34m\u001b[0m\u001b[0m\n\u001b[0m\u001b[1;32m     52\u001b[0m         \u001b[0;32massert\u001b[0m \u001b[0mself\u001b[0m\u001b[0;34m.\u001b[0m\u001b[0mhandles\u001b[0m \u001b[0;32mis\u001b[0m \u001b[0;32mnot\u001b[0m \u001b[0;32mNone\u001b[0m\u001b[0;34m\u001b[0m\u001b[0;34m\u001b[0m\u001b[0m\n\u001b[1;32m     53\u001b[0m \u001b[0;34m\u001b[0m\u001b[0m\n",
            "\u001b[0;32m/usr/local/lib/python3.7/dist-packages/pandas/io/parsers/base_parser.py\u001b[0m in \u001b[0;36m_open_handles\u001b[0;34m(self, src, kwds)\u001b[0m\n\u001b[1;32m    227\u001b[0m             \u001b[0mmemory_map\u001b[0m\u001b[0;34m=\u001b[0m\u001b[0mkwds\u001b[0m\u001b[0;34m.\u001b[0m\u001b[0mget\u001b[0m\u001b[0;34m(\u001b[0m\u001b[0;34m\"memory_map\"\u001b[0m\u001b[0;34m,\u001b[0m \u001b[0;32mFalse\u001b[0m\u001b[0;34m)\u001b[0m\u001b[0;34m,\u001b[0m\u001b[0;34m\u001b[0m\u001b[0;34m\u001b[0m\u001b[0m\n\u001b[1;32m    228\u001b[0m             \u001b[0mstorage_options\u001b[0m\u001b[0;34m=\u001b[0m\u001b[0mkwds\u001b[0m\u001b[0;34m.\u001b[0m\u001b[0mget\u001b[0m\u001b[0;34m(\u001b[0m\u001b[0;34m\"storage_options\"\u001b[0m\u001b[0;34m,\u001b[0m \u001b[0;32mNone\u001b[0m\u001b[0;34m)\u001b[0m\u001b[0;34m,\u001b[0m\u001b[0;34m\u001b[0m\u001b[0;34m\u001b[0m\u001b[0m\n\u001b[0;32m--> 229\u001b[0;31m             \u001b[0merrors\u001b[0m\u001b[0;34m=\u001b[0m\u001b[0mkwds\u001b[0m\u001b[0;34m.\u001b[0m\u001b[0mget\u001b[0m\u001b[0;34m(\u001b[0m\u001b[0;34m\"encoding_errors\"\u001b[0m\u001b[0;34m,\u001b[0m \u001b[0;34m\"strict\"\u001b[0m\u001b[0;34m)\u001b[0m\u001b[0;34m,\u001b[0m\u001b[0;34m\u001b[0m\u001b[0;34m\u001b[0m\u001b[0m\n\u001b[0m\u001b[1;32m    230\u001b[0m         )\n\u001b[1;32m    231\u001b[0m \u001b[0;34m\u001b[0m\u001b[0m\n",
            "\u001b[0;32m/usr/local/lib/python3.7/dist-packages/pandas/io/common.py\u001b[0m in \u001b[0;36mget_handle\u001b[0;34m(path_or_buf, mode, encoding, compression, memory_map, is_text, errors, storage_options)\u001b[0m\n\u001b[1;32m    705\u001b[0m                 \u001b[0mencoding\u001b[0m\u001b[0;34m=\u001b[0m\u001b[0mioargs\u001b[0m\u001b[0;34m.\u001b[0m\u001b[0mencoding\u001b[0m\u001b[0;34m,\u001b[0m\u001b[0;34m\u001b[0m\u001b[0;34m\u001b[0m\u001b[0m\n\u001b[1;32m    706\u001b[0m                 \u001b[0merrors\u001b[0m\u001b[0;34m=\u001b[0m\u001b[0merrors\u001b[0m\u001b[0;34m,\u001b[0m\u001b[0;34m\u001b[0m\u001b[0;34m\u001b[0m\u001b[0m\n\u001b[0;32m--> 707\u001b[0;31m                 \u001b[0mnewline\u001b[0m\u001b[0;34m=\u001b[0m\u001b[0;34m\"\"\u001b[0m\u001b[0;34m,\u001b[0m\u001b[0;34m\u001b[0m\u001b[0;34m\u001b[0m\u001b[0m\n\u001b[0m\u001b[1;32m    708\u001b[0m             )\n\u001b[1;32m    709\u001b[0m         \u001b[0;32melse\u001b[0m\u001b[0;34m:\u001b[0m\u001b[0;34m\u001b[0m\u001b[0;34m\u001b[0m\u001b[0m\n",
            "\u001b[0;31mFileNotFoundError\u001b[0m: [Errno 2] No such file or directory: '/content/aluguel.csv'"
          ]
        }
      ]
    },
    {
      "cell_type": "markdown",
      "source": [
        "Informações Gerais sobre o DataFrame"
      ],
      "metadata": {
        "id": "l1TsemY6DYTX"
      }
    },
    {
      "cell_type": "code",
      "source": [
        "tipos_de_dados = pd.DataFrame(dados.dtypes, columns = ['Tipos de Dados'])\n",
        "tipos_de_dados.columns.name = 'Variaveis'\n",
        "\n",
        "tipos_de_dados"
      ],
      "metadata": {
        "id": "4TEOqO23Dd17"
      },
      "execution_count": null,
      "outputs": []
    },
    {
      "cell_type": "code",
      "source": [
        "print('A base de dados apresenta {} registros (imoveis) e {} variaveis'.format(dados.shape[0], dados.shape[1]))"
      ],
      "metadata": {
        "id": "layysyZwEDPv"
      },
      "execution_count": null,
      "outputs": []
    },
    {
      "cell_type": "markdown",
      "source": [
        "###Refatorando"
      ],
      "metadata": {
        "id": "c3lYpM2I7TRv"
      }
    },
    {
      "cell_type": "markdown",
      "source": [
        "Quantos Imóveis tem no DB ?"
      ],
      "metadata": {
        "id": "TGIAn9n9f39k"
      }
    },
    {
      "cell_type": "code",
      "source": [
        "import pandas as pd\n",
        "\n",
        "dados = pd.read_csv('/content/aluguel.csv',sep = ';')\n",
        "\n",
        "tipos_de_dados = pd.DataFrame(dados.dtypes, columns = ['Tipos de Dados'])\n",
        "tipos_de_dados.columns.name = 'Variaveis'\n",
        "\n",
        "print('A base de dados apresenta {} registros (imoveis) e {} variaveis'.format(dados.shape[0], dados.shape[1]))"
      ],
      "metadata": {
        "id": "13D5Vtiu7UjE"
      },
      "execution_count": null,
      "outputs": []
    },
    {
      "cell_type": "markdown",
      "source": [
        "##Relatório de Análise II"
      ],
      "metadata": {
        "id": "YM7Hb9Dr5NJ7"
      }
    },
    {
      "cell_type": "markdown",
      "source": [
        "###Tipos de Imóveis"
      ],
      "metadata": {
        "id": "_OMyO3RY5Ua7"
      }
    },
    {
      "cell_type": "code",
      "source": [
        "import pandas as pd\n",
        "\n",
        "dados = pd.read_csv('/content/aluguel.csv', sep = ';')\n",
        "\n",
        "dados.head()"
      ],
      "metadata": {
        "id": "V9MZnYgn5QOf"
      },
      "execution_count": null,
      "outputs": []
    },
    {
      "cell_type": "code",
      "source": [
        "tipo_de_imovel = dados['Tipo']\n",
        "type(tipo_de_imovel)"
      ],
      "metadata": {
        "id": "j4Y0urDK6IqR"
      },
      "execution_count": null,
      "outputs": []
    },
    {
      "cell_type": "code",
      "source": [
        "tipo_de_imovel.drop_duplicates(inplace = True)\n",
        "tipo_de_imovel"
      ],
      "metadata": {
        "id": "w6z_EJkC6icZ"
      },
      "execution_count": null,
      "outputs": []
    },
    {
      "cell_type": "markdown",
      "source": [
        "###Organizando a Visualização"
      ],
      "metadata": {
        "id": "hfNzgFnp7Jg4"
      }
    },
    {
      "cell_type": "code",
      "source": [
        "tipo_de_imovel = pd.DataFrame(tipo_de_imovel)\n",
        "tipo_de_imovel"
      ],
      "metadata": {
        "id": "6uw1f9787OnY"
      },
      "execution_count": null,
      "outputs": []
    },
    {
      "cell_type": "code",
      "source": [
        "tipo_de_imovel.index = range(tipo_de_imovel.shape[0])\n",
        "tipo_de_imovel"
      ],
      "metadata": {
        "id": "ejx9orb28pW2"
      },
      "execution_count": null,
      "outputs": []
    },
    {
      "cell_type": "code",
      "source": [
        "tipo_de_imovel.columns.name = 'Id'\n",
        "tipo_de_imovel"
      ],
      "metadata": {
        "id": "3Yo5GgCg9C-N"
      },
      "execution_count": null,
      "outputs": []
    },
    {
      "cell_type": "markdown",
      "source": [
        "###Refatorando"
      ],
      "metadata": {
        "id": "YWnr46o0eZUH"
      }
    },
    {
      "cell_type": "markdown",
      "source": [
        "Quais os Tipos de Imóveis no DB ?"
      ],
      "metadata": {
        "id": "q_DAGEV1fiic"
      }
    },
    {
      "cell_type": "code",
      "source": [
        "import pandas as pd\n",
        "\n",
        "dados = pd.read_csv('/content/aluguel.csv', sep = ';')\n",
        "\n",
        "tipo_de_imovel = dados['Tipo']\n",
        "tipo_de_imovel.drop_duplicates(inplace = True)\n",
        "tipo_de_imovel = pd.DataFrame(tipo_de_imovel)\n",
        "tipo_de_imovel.index = range(tipo_de_imovel.shape[0])\n",
        "tipo_de_imovel.columns.name = 'Id'\n",
        "\n",
        "tipo_de_imovel\n",
        "\n"
      ],
      "metadata": {
        "id": "cnUvXROXee5s"
      },
      "execution_count": null,
      "outputs": []
    },
    {
      "cell_type": "markdown",
      "source": [
        "##Relatório de Análise III"
      ],
      "metadata": {
        "id": "09CJ_73ngGj8"
      }
    },
    {
      "cell_type": "markdown",
      "source": [
        "###Imóveis Residenciais"
      ],
      "metadata": {
        "id": "sRqIOTjggQX0"
      }
    },
    {
      "cell_type": "code",
      "source": [
        "import pandas as pd\n",
        "\n",
        "dados= pd.read_csv(\"/content/aluguel.csv\", sep =';')\n",
        "dados.head()"
      ],
      "metadata": {
        "id": "SrT533wigKkX"
      },
      "execution_count": null,
      "outputs": []
    },
    {
      "cell_type": "code",
      "source": [
        "list(dados['Tipo'].drop_duplicates())"
      ],
      "metadata": {
        "id": "MxGMgi2ggmdy"
      },
      "execution_count": null,
      "outputs": []
    },
    {
      "cell_type": "code",
      "source": [
        "residencial = ['Quitinete',\n",
        " 'Casa',\n",
        " 'Apartamento',\n",
        " 'Casa de Condomínio',\n",
        " 'Casa de Vila']\n",
        "\n",
        "residencial"
      ],
      "metadata": {
        "id": "pglFT6dfgx7_"
      },
      "execution_count": null,
      "outputs": []
    },
    {
      "cell_type": "code",
      "source": [
        "selecao =dados['Tipo'].isin(residencial)\n",
        "\n",
        "selecao"
      ],
      "metadata": {
        "id": "QoIAmHoOhcmL"
      },
      "execution_count": null,
      "outputs": []
    },
    {
      "cell_type": "code",
      "source": [
        "dados_residencial = dados[selecao]\n",
        "\n",
        "dados_residencial"
      ],
      "metadata": {
        "id": "pDd_UjVZh0H5"
      },
      "execution_count": null,
      "outputs": []
    },
    {
      "cell_type": "code",
      "source": [
        "dados_residencial.shape[0]"
      ],
      "metadata": {
        "id": "_Ja2DomAiIXL"
      },
      "execution_count": null,
      "outputs": []
    },
    {
      "cell_type": "code",
      "source": [
        "dados_residencial.index = range(dados_residencial.shape[0])\n",
        "\n",
        "dados_residencial"
      ],
      "metadata": {
        "id": "szc9SyUziS7r"
      },
      "execution_count": null,
      "outputs": []
    },
    {
      "cell_type": "markdown",
      "source": [
        "###Exportando a Base de Dados"
      ],
      "metadata": {
        "id": "cT-3yJqyi253"
      }
    },
    {
      "cell_type": "code",
      "source": [
        "dados_residencial.to_csv(\"/content/aluguel_residencial.csv\", sep = ';', index = False)"
      ],
      "metadata": {
        "id": "jehqfRzRi9kP"
      },
      "execution_count": null,
      "outputs": []
    },
    {
      "cell_type": "code",
      "source": [
        "dados_residencial2 = pd.read_csv(\"/content/aluguel_residencial.csv\", sep = ';')"
      ],
      "metadata": {
        "id": "5HqK8oCAlTdh"
      },
      "execution_count": null,
      "outputs": []
    },
    {
      "cell_type": "code",
      "source": [
        "dados_residencial2"
      ],
      "metadata": {
        "id": "GlcAd1yPldZU"
      },
      "execution_count": null,
      "outputs": []
    },
    {
      "cell_type": "markdown",
      "source": [
        "###Refatorando"
      ],
      "metadata": {
        "id": "MoNvxpkai_cB"
      }
    },
    {
      "cell_type": "markdown",
      "source": [
        "Criar um DB Somente com Imóveis Residenciais"
      ],
      "metadata": {
        "id": "rxKuqDe8mPsS"
      }
    },
    {
      "cell_type": "code",
      "source": [
        "import pandas as pd\n",
        "\n",
        "dados = pd.read_csv(\"/content/aluguel.csv\", sep =';')\n",
        "\n",
        "residencial = ['Quitinete',\n",
        " 'Casa',\n",
        " 'Apartamento',\n",
        " 'Casa de Condomínio',\n",
        " 'Flat',\n",
        " 'Casa de Vila',\n",
        " 'Loft',\n",
        " 'Chácara',\n",
        " 'Sítio',\n",
        " 'Studio']\n",
        "\n",
        "selecao = dados['Tipo'].isin(residencial)\n",
        "dados_residencial = dados[selecao]\n",
        "dados_residencial.index = range(dados_residencial.shape[0])\n",
        "\n",
        "dados_residencial\n",
        "\n",
        "dados_residencial.to_csv(\"/content/aluguel_residencial2.csv\", sep = ';', index = False)"
      ],
      "metadata": {
        "id": "MPcxeDj3jBEK"
      },
      "execution_count": null,
      "outputs": []
    },
    {
      "cell_type": "markdown",
      "source": [
        "## Relatório de Análise IV\n"
      ],
      "metadata": {
        "id": "p1AR2IHerOLI"
      }
    },
    {
      "cell_type": "markdown",
      "source": [
        "### Seleções e Frequencias"
      ],
      "metadata": {
        "id": "-Z4_BpHnreWq"
      }
    },
    {
      "cell_type": "code",
      "source": [
        "import pandas as pd\n",
        "\n",
        "dados = pd.read_csv('/content/aluguel_residencial.csv', sep = ';')\n",
        "\n",
        "dados"
      ],
      "metadata": {
        "id": "L3_eSL1ArVUK"
      },
      "execution_count": null,
      "outputs": []
    },
    {
      "cell_type": "markdown",
      "source": [
        "####Selecione somente os imóveis 'Apartamento'"
      ],
      "metadata": {
        "id": "OK-4TT8msYFb"
      }
    },
    {
      "cell_type": "code",
      "source": [
        "ap = dados['Tipo'] == 'Apartamento'\n",
        "\n",
        "n1 = dados[ap].shape[0]\n",
        "\n",
        "dados[ap]"
      ],
      "metadata": {
        "id": "fVSHehHwsgf9"
      },
      "execution_count": null,
      "outputs": []
    },
    {
      "cell_type": "markdown",
      "source": [
        "####Selecione somente os imóveis 'Casa', 'Casa de Condominio', 'Casa de Vila'"
      ],
      "metadata": {
        "id": "M9qTx0UsvYYa"
      }
    },
    {
      "cell_type": "code",
      "source": [
        "selecao = (dados['Tipo'] == 'Casa') | (dados['Tipo'] == 'Casa de Condomínio') | (dados['Tipo'] == 'Casa de Vila')\n",
        "\n",
        "n2 = dados[selecao].shape[0]\n",
        "\n",
        "dados[selecao]"
      ],
      "metadata": {
        "id": "QusGKuNlvdo7"
      },
      "execution_count": null,
      "outputs": []
    },
    {
      "cell_type": "markdown",
      "source": [
        "####Selecione os imóveis com área entre 60 e 100 metros quadrados, incluindo os limites"
      ],
      "metadata": {
        "id": "sP4FEo1uwoAg"
      }
    },
    {
      "cell_type": "code",
      "source": [
        "# 60 <= Area <= 100\n",
        "selecao_area = (dados['Area'] >= 60) & (dados['Area'] <= 100)\n",
        "\n",
        "n3 = dados[selecao_area].shape[0]\n",
        "\n",
        "dados[selecao_area]"
      ],
      "metadata": {
        "id": "lK0vnZdFwsPZ"
      },
      "execution_count": null,
      "outputs": []
    },
    {
      "cell_type": "markdown",
      "source": [
        "####Selecione os imóveis que tenham pelo menos 4 quartos e aluguel menor que R$2.000,00"
      ],
      "metadata": {
        "id": "s9m0WEOcx5h5"
      }
    },
    {
      "cell_type": "code",
      "source": [
        "selecao2 = (dados['Quartos'] >= 4) & (dados['Valor'] < 2000)\n",
        "\n",
        "n4 = dados[selecao2].shape[0]\n",
        "\n",
        "dados[selecao2]"
      ],
      "metadata": {
        "id": "4mURulppx8V-"
      },
      "execution_count": null,
      "outputs": []
    },
    {
      "cell_type": "markdown",
      "source": [
        "####Selecione somente os imóveis com Suite"
      ],
      "metadata": {
        "id": "Qd5yXRk_yrev"
      }
    },
    {
      "cell_type": "code",
      "source": [
        "suite = (dados['Suites'] > 0)\n",
        "\n",
        "n5 = dados[suite]\n",
        "\n",
        "dados[suite]"
      ],
      "metadata": {
        "id": "jEqqnxJ3sJ7o"
      },
      "execution_count": null,
      "outputs": []
    },
    {
      "cell_type": "markdown",
      "source": [
        "###Refatorando"
      ],
      "metadata": {
        "id": "zzauDR04zjvO"
      }
    },
    {
      "cell_type": "code",
      "source": [
        "import pandas as pd\n",
        "\n",
        "dados = pd.read_csv('/content/aluguel_residencial.csv', sep = ';')\n",
        "\n",
        "ap = dados['Tipo'] == 'Apartamento'\n",
        "n1 = dados[ap].shape[0]\n",
        "\n",
        "selecao = (dados['Tipo'] == 'Casa') | (dados['Tipo'] == 'Casa de Condomínio') | (dados['Tipo'] == 'Casa de Vila')\n",
        "n2 = dados[selecao].shape[0]\n",
        "\n",
        "selecao_area = (dados['Area'] >= 60) & (dados['Area'] <= 100)\n",
        "n3 = dados[selecao_area].shape[0]\n",
        "\n",
        "selecao2 = (dados['Quartos'] >= 4) & (dados['Valor'] < 2000)\n",
        "n4 = dados[selecao2].shape[0]\n",
        "\n",
        "suite = (dados['Suites'] > 0)\n",
        "n5 = dados[suite].shape[0]\n",
        "\n",
        "\n",
        "print(\"Nº de imóveis classificados com tipo 'Apartamento' -> {}\".format(n1))\n",
        "print(\"Nº de imóveis classificados com tipos 'Casa', 'Casa de Condomínio' e 'Casa de Vila'-> {}\".format(n2))\n",
        "print(\"Nº de imóveis com área entre 60 e 100 metros quadrados, incluindo os limites -> {}\".format(n3))\n",
        "print(\"Nº de imóveis que tenham pelo menos 4 quartos e aluguel menor que R$ 2.000,00 -> {}\".format(n4))\n",
        "print(\"Nº de imóveis que tenham pelo menos 1 quarto com Suíte -> {}\".format(n5))"
      ],
      "metadata": {
        "id": "jl4K8EMezn8a"
      },
      "execution_count": null,
      "outputs": []
    },
    {
      "cell_type": "markdown",
      "source": [
        "## Exercicios Relatório \n"
      ],
      "metadata": {
        "id": "HLKaJKme1alo"
      }
    },
    {
      "cell_type": "code",
      "source": [
        "import pandas as pd\n",
        "alunos = pd.DataFrame({'Nome': ['Ary', 'Cátia', 'Denis', 'Beto', 'Bruna', 'Dara', 'Carlos', 'Alice'], \n",
        "                        'Sexo': ['M', 'F', 'M', 'M', 'F', 'F', 'M', 'F'], \n",
        "                        'Idade': [15, 27, 56, 32, 42, 21, 19, 35], \n",
        "                        'Notas': [7.5, 2.5, 5.0, 10, 8.2, 7, 6, 5.6], \n",
        "                        'Aprovado': [True, False, False, True, True, True, False, False]}, \n",
        "                        columns = ['Nome', 'Idade', 'Sexo', 'Notas', 'Aprovado'])"
      ],
      "metadata": {
        "id": "uZQJOg2k1VWp"
      },
      "execution_count": null,
      "outputs": []
    },
    {
      "cell_type": "code",
      "source": [
        "alunos"
      ],
      "metadata": {
        "id": "oi--pAp_1zy0"
      },
      "execution_count": null,
      "outputs": []
    },
    {
      "cell_type": "markdown",
      "source": [
        "### Crie um DataFrame somente com os alunos aprovados."
      ],
      "metadata": {
        "id": "3Z4VOKHX1pWl"
      }
    },
    {
      "cell_type": "code",
      "source": [
        "aprovados = alunos['Aprovado'] == True\n",
        "alunos[aprovados]"
      ],
      "metadata": {
        "id": "TLByJ8M91rdM"
      },
      "execution_count": null,
      "outputs": []
    },
    {
      "cell_type": "markdown",
      "source": [
        "###Crie um DataFrame somente com as alunas aprovadas."
      ],
      "metadata": {
        "id": "qJKDsnST2LEj"
      }
    },
    {
      "cell_type": "code",
      "source": [
        "aprovadas = (alunos['Aprovado'] == True) & (alunos['Sexo'] == 'F')\n",
        "alunos[aprovadas]"
      ],
      "metadata": {
        "id": "zmorY1Nm2MOi"
      },
      "execution_count": null,
      "outputs": []
    },
    {
      "cell_type": "markdown",
      "source": [
        "###Crie apenas uma visualização dos alunos com idade entre 10 e 20 anos ou com idade maior ou igual a 40 anos."
      ],
      "metadata": {
        "id": "0JoDO0-l2rXh"
      }
    },
    {
      "cell_type": "code",
      "source": [
        "selecao = (alunos['Idade'] > 10) & (alunos['Idade'] < 20) | (alunos['Idade'] >= 40)\n",
        "\n",
        "alunos[selecao]"
      ],
      "metadata": {
        "id": "E3WKgt7O2tMl"
      },
      "execution_count": null,
      "outputs": []
    },
    {
      "cell_type": "markdown",
      "source": [
        "###Crie um DataFrame somente com os alunos reprovados e mantenha neste DataFrame apenas as colunas Nome, Sexo e Idade, nesta ordem."
      ],
      "metadata": {
        "id": "SVkXIxkm4uy6"
      }
    },
    {
      "cell_type": "code",
      "source": [
        "selecao = alunos['Aprovado'] == False\n",
        "\n",
        "reprovados = alunos[['Nome', 'Sexo', 'Idade']][selecao]\n",
        "reprovados"
      ],
      "metadata": {
        "id": "1ojdZ66-4wCo"
      },
      "execution_count": null,
      "outputs": []
    },
    {
      "cell_type": "markdown",
      "source": [
        "###Crie uma visualização com os três alunos mais novos."
      ],
      "metadata": {
        "id": "KkBGcVCy5eW8"
      }
    },
    {
      "cell_type": "code",
      "source": [
        "alunos.sort_values(by = 'Idade', inplace = True)\n",
        "\n",
        "alunos.iloc[:3]"
      ],
      "metadata": {
        "id": "kSvalfsA5i4i"
      },
      "execution_count": null,
      "outputs": []
    },
    {
      "cell_type": "markdown",
      "source": [
        "## Relatório de Análise V\n"
      ],
      "metadata": {
        "id": "hBTEncnYvAXO"
      }
    },
    {
      "cell_type": "markdown",
      "source": [
        "###Tratamento de Dados Faltantes"
      ],
      "metadata": {
        "id": "t7zvpGfSvI_e"
      }
    },
    {
      "cell_type": "code",
      "source": [
        "import pandas as pd"
      ],
      "metadata": {
        "id": "5hdTThgYvG_I"
      },
      "execution_count": null,
      "outputs": []
    },
    {
      "cell_type": "code",
      "source": [
        "dados = pd.read_csv()"
      ],
      "metadata": {
        "id": "CiTbGNbjvWIB"
      },
      "execution_count": null,
      "outputs": []
    }
  ]
}